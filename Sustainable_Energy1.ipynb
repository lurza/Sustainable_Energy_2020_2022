{
 "cells": [
  {
   "cell_type": "code",
   "execution_count": 1,
   "metadata": {},
   "outputs": [],
   "source": [
    "# For Data Analysis\n",
    "\n",
    "import pandas as pd\n",
    "import numpy as np\n",
    "import matplotlib.pyplot as plt\n",
    "pd.set_option('display.max_columns', 500)\n",
    "\n",
    "# For Data Visualization\n",
    "\n",
    "import plotly as py\n",
    "import plotly.graph_objs as go\n",
    "import plotly.express as px\n",
    "import plotly.figure_factory as ff\n",
    "import plotly.io as pio\n",
    "import plotly.offline as pyo\n",
    "\n",
    "from plotly.subplots import make_subplots\n",
    "from plotly.offline import plot\n",
    "\n",
    "# For Additional Use\n",
    "import datetime\n",
    "import calendar\n",
    "\n",
    "# Template\n",
    "pio.templates.default = \"plotly_dark\"\n",
    "\n",
    "# Ignore Warnings\n",
    "import warnings\n",
    "warnings.filterwarnings(\"ignore\")"
   ]
  },
  {
   "cell_type": "code",
   "execution_count": 2,
   "metadata": {},
   "outputs": [
    {
     "data": {
      "text/html": [
       "<div>\n",
       "<style scoped>\n",
       "    .dataframe tbody tr th:only-of-type {\n",
       "        vertical-align: middle;\n",
       "    }\n",
       "\n",
       "    .dataframe tbody tr th {\n",
       "        vertical-align: top;\n",
       "    }\n",
       "\n",
       "    .dataframe thead th {\n",
       "        text-align: right;\n",
       "    }\n",
       "</style>\n",
       "<table border=\"1\" class=\"dataframe\">\n",
       "  <thead>\n",
       "    <tr style=\"text-align: right;\">\n",
       "      <th></th>\n",
       "      <th>Entity</th>\n",
       "      <th>Year</th>\n",
       "      <th>Access to electricity (% of population)</th>\n",
       "      <th>Access to clean fuels for cooking</th>\n",
       "      <th>Renewable-electricity-generating-capacity-per-capita</th>\n",
       "      <th>Financial flows to developing countries (US $)</th>\n",
       "      <th>Renewable energy share in the total final energy consumption (%)</th>\n",
       "      <th>Electricity from fossil fuels (TWh)</th>\n",
       "      <th>Electricity from nuclear (TWh)</th>\n",
       "      <th>Electricity from renewables (TWh)</th>\n",
       "      <th>Low-carbon electricity (% electricity)</th>\n",
       "      <th>Primary energy consumption per capita (kWh/person)</th>\n",
       "      <th>Energy intensity level of primary energy (MJ/$2017 PPP GDP)</th>\n",
       "      <th>Value_co2_emissions_kt_by_country</th>\n",
       "      <th>Renewables (% equivalent primary energy)</th>\n",
       "      <th>gdp_growth</th>\n",
       "      <th>gdp_per_capita</th>\n",
       "      <th>Density\\n(P/Km2)</th>\n",
       "      <th>Land Area(Km2)</th>\n",
       "      <th>Latitude</th>\n",
       "      <th>Longitude</th>\n",
       "    </tr>\n",
       "  </thead>\n",
       "  <tbody>\n",
       "    <tr>\n",
       "      <th>0</th>\n",
       "      <td>Afghanistan</td>\n",
       "      <td>2000</td>\n",
       "      <td>1.613591</td>\n",
       "      <td>6.2</td>\n",
       "      <td>9.22</td>\n",
       "      <td>20000.0</td>\n",
       "      <td>44.99</td>\n",
       "      <td>0.16</td>\n",
       "      <td>0.0</td>\n",
       "      <td>0.31</td>\n",
       "      <td>65.957440</td>\n",
       "      <td>302.59482</td>\n",
       "      <td>1.64</td>\n",
       "      <td>760.000000</td>\n",
       "      <td>NaN</td>\n",
       "      <td>NaN</td>\n",
       "      <td>NaN</td>\n",
       "      <td>60</td>\n",
       "      <td>6,52,230</td>\n",
       "      <td>33.93911</td>\n",
       "      <td>67.709953</td>\n",
       "    </tr>\n",
       "    <tr>\n",
       "      <th>1</th>\n",
       "      <td>Afghanistan</td>\n",
       "      <td>2001</td>\n",
       "      <td>4.074574</td>\n",
       "      <td>7.2</td>\n",
       "      <td>8.86</td>\n",
       "      <td>130000.0</td>\n",
       "      <td>45.60</td>\n",
       "      <td>0.09</td>\n",
       "      <td>0.0</td>\n",
       "      <td>0.50</td>\n",
       "      <td>84.745766</td>\n",
       "      <td>236.89185</td>\n",
       "      <td>1.74</td>\n",
       "      <td>730.000000</td>\n",
       "      <td>NaN</td>\n",
       "      <td>NaN</td>\n",
       "      <td>NaN</td>\n",
       "      <td>60</td>\n",
       "      <td>6,52,230</td>\n",
       "      <td>33.93911</td>\n",
       "      <td>67.709953</td>\n",
       "    </tr>\n",
       "    <tr>\n",
       "      <th>2</th>\n",
       "      <td>Afghanistan</td>\n",
       "      <td>2002</td>\n",
       "      <td>9.409158</td>\n",
       "      <td>8.2</td>\n",
       "      <td>8.47</td>\n",
       "      <td>3950000.0</td>\n",
       "      <td>37.83</td>\n",
       "      <td>0.13</td>\n",
       "      <td>0.0</td>\n",
       "      <td>0.56</td>\n",
       "      <td>81.159424</td>\n",
       "      <td>210.86215</td>\n",
       "      <td>1.40</td>\n",
       "      <td>1029.999971</td>\n",
       "      <td>NaN</td>\n",
       "      <td>NaN</td>\n",
       "      <td>179.426579</td>\n",
       "      <td>60</td>\n",
       "      <td>6,52,230</td>\n",
       "      <td>33.93911</td>\n",
       "      <td>67.709953</td>\n",
       "    </tr>\n",
       "    <tr>\n",
       "      <th>3</th>\n",
       "      <td>Afghanistan</td>\n",
       "      <td>2003</td>\n",
       "      <td>14.738506</td>\n",
       "      <td>9.5</td>\n",
       "      <td>8.09</td>\n",
       "      <td>25970000.0</td>\n",
       "      <td>36.66</td>\n",
       "      <td>0.31</td>\n",
       "      <td>0.0</td>\n",
       "      <td>0.63</td>\n",
       "      <td>67.021280</td>\n",
       "      <td>229.96822</td>\n",
       "      <td>1.40</td>\n",
       "      <td>1220.000029</td>\n",
       "      <td>NaN</td>\n",
       "      <td>8.832278</td>\n",
       "      <td>190.683814</td>\n",
       "      <td>60</td>\n",
       "      <td>6,52,230</td>\n",
       "      <td>33.93911</td>\n",
       "      <td>67.709953</td>\n",
       "    </tr>\n",
       "    <tr>\n",
       "      <th>4</th>\n",
       "      <td>Afghanistan</td>\n",
       "      <td>2004</td>\n",
       "      <td>20.064968</td>\n",
       "      <td>10.9</td>\n",
       "      <td>7.75</td>\n",
       "      <td>NaN</td>\n",
       "      <td>44.24</td>\n",
       "      <td>0.33</td>\n",
       "      <td>0.0</td>\n",
       "      <td>0.56</td>\n",
       "      <td>62.921350</td>\n",
       "      <td>204.23125</td>\n",
       "      <td>1.20</td>\n",
       "      <td>1029.999971</td>\n",
       "      <td>NaN</td>\n",
       "      <td>1.414118</td>\n",
       "      <td>211.382074</td>\n",
       "      <td>60</td>\n",
       "      <td>6,52,230</td>\n",
       "      <td>33.93911</td>\n",
       "      <td>67.709953</td>\n",
       "    </tr>\n",
       "  </tbody>\n",
       "</table>\n",
       "</div>"
      ],
      "text/plain": [
       "        Entity  Year  Access to electricity (% of population)  \\\n",
       "0  Afghanistan  2000                                 1.613591   \n",
       "1  Afghanistan  2001                                 4.074574   \n",
       "2  Afghanistan  2002                                 9.409158   \n",
       "3  Afghanistan  2003                                14.738506   \n",
       "4  Afghanistan  2004                                20.064968   \n",
       "\n",
       "   Access to clean fuels for cooking  \\\n",
       "0                                6.2   \n",
       "1                                7.2   \n",
       "2                                8.2   \n",
       "3                                9.5   \n",
       "4                               10.9   \n",
       "\n",
       "   Renewable-electricity-generating-capacity-per-capita  \\\n",
       "0                                               9.22      \n",
       "1                                               8.86      \n",
       "2                                               8.47      \n",
       "3                                               8.09      \n",
       "4                                               7.75      \n",
       "\n",
       "   Financial flows to developing countries (US $)  \\\n",
       "0                                         20000.0   \n",
       "1                                        130000.0   \n",
       "2                                       3950000.0   \n",
       "3                                      25970000.0   \n",
       "4                                             NaN   \n",
       "\n",
       "   Renewable energy share in the total final energy consumption (%)  \\\n",
       "0                                              44.99                  \n",
       "1                                              45.60                  \n",
       "2                                              37.83                  \n",
       "3                                              36.66                  \n",
       "4                                              44.24                  \n",
       "\n",
       "   Electricity from fossil fuels (TWh)  Electricity from nuclear (TWh)  \\\n",
       "0                                 0.16                             0.0   \n",
       "1                                 0.09                             0.0   \n",
       "2                                 0.13                             0.0   \n",
       "3                                 0.31                             0.0   \n",
       "4                                 0.33                             0.0   \n",
       "\n",
       "   Electricity from renewables (TWh)  Low-carbon electricity (% electricity)  \\\n",
       "0                               0.31                               65.957440   \n",
       "1                               0.50                               84.745766   \n",
       "2                               0.56                               81.159424   \n",
       "3                               0.63                               67.021280   \n",
       "4                               0.56                               62.921350   \n",
       "\n",
       "   Primary energy consumption per capita (kWh/person)  \\\n",
       "0                                          302.59482    \n",
       "1                                          236.89185    \n",
       "2                                          210.86215    \n",
       "3                                          229.96822    \n",
       "4                                          204.23125    \n",
       "\n",
       "   Energy intensity level of primary energy (MJ/$2017 PPP GDP)  \\\n",
       "0                                               1.64             \n",
       "1                                               1.74             \n",
       "2                                               1.40             \n",
       "3                                               1.40             \n",
       "4                                               1.20             \n",
       "\n",
       "   Value_co2_emissions_kt_by_country  \\\n",
       "0                         760.000000   \n",
       "1                         730.000000   \n",
       "2                        1029.999971   \n",
       "3                        1220.000029   \n",
       "4                        1029.999971   \n",
       "\n",
       "   Renewables (% equivalent primary energy)  gdp_growth  gdp_per_capita  \\\n",
       "0                                       NaN         NaN             NaN   \n",
       "1                                       NaN         NaN             NaN   \n",
       "2                                       NaN         NaN      179.426579   \n",
       "3                                       NaN    8.832278      190.683814   \n",
       "4                                       NaN    1.414118      211.382074   \n",
       "\n",
       "  Density\\n(P/Km2) Land Area(Km2)  Latitude  Longitude  \n",
       "0               60       6,52,230  33.93911  67.709953  \n",
       "1               60       6,52,230  33.93911  67.709953  \n",
       "2               60       6,52,230  33.93911  67.709953  \n",
       "3               60       6,52,230  33.93911  67.709953  \n",
       "4               60       6,52,230  33.93911  67.709953  "
      ]
     },
     "execution_count": 2,
     "metadata": {},
     "output_type": "execute_result"
    }
   ],
   "source": [
    "data = pd.read_csv('global-data-on-sustainable-energy.csv')\n",
    "data.head()"
   ]
  },
  {
   "cell_type": "code",
   "execution_count": 4,
   "metadata": {},
   "outputs": [
    {
     "data": {
      "text/plain": [
       "(3649, 21)"
      ]
     },
     "execution_count": 4,
     "metadata": {},
     "output_type": "execute_result"
    }
   ],
   "source": [
    "data.shape"
   ]
  },
  {
   "cell_type": "markdown",
   "metadata": {},
   "source": [
    "### Data Preparation"
   ]
  },
  {
   "cell_type": "markdown",
   "metadata": {},
   "source": [
    "Observation on  NullData"
   ]
  },
  {
   "cell_type": "code",
   "execution_count": 18,
   "metadata": {},
   "outputs": [
    {
     "data": {
      "text/html": [
       "<div>\n",
       "<style scoped>\n",
       "    .dataframe tbody tr th:only-of-type {\n",
       "        vertical-align: middle;\n",
       "    }\n",
       "\n",
       "    .dataframe tbody tr th {\n",
       "        vertical-align: top;\n",
       "    }\n",
       "\n",
       "    .dataframe thead th {\n",
       "        text-align: right;\n",
       "    }\n",
       "</style>\n",
       "<table border=\"1\" class=\"dataframe\">\n",
       "  <thead>\n",
       "    <tr style=\"text-align: right;\">\n",
       "      <th></th>\n",
       "      <th>Null Values</th>\n",
       "    </tr>\n",
       "  </thead>\n",
       "  <tbody>\n",
       "    <tr>\n",
       "      <th>Renewables (% equivalent primary energy)</th>\n",
       "      <td>2137</td>\n",
       "    </tr>\n",
       "    <tr>\n",
       "      <th>Financial flows to developing countries (US $)</th>\n",
       "      <td>2089</td>\n",
       "    </tr>\n",
       "    <tr>\n",
       "      <th>Renewable-electricity-generating-capacity-per-capita</th>\n",
       "      <td>931</td>\n",
       "    </tr>\n",
       "    <tr>\n",
       "      <th>Value_co2_emissions_kt_by_country</th>\n",
       "      <td>428</td>\n",
       "    </tr>\n",
       "    <tr>\n",
       "      <th>gdp_growth</th>\n",
       "      <td>317</td>\n",
       "    </tr>\n",
       "    <tr>\n",
       "      <th>gdp_per_capita</th>\n",
       "      <td>282</td>\n",
       "    </tr>\n",
       "    <tr>\n",
       "      <th>Energy intensity level of primary energy (MJ/$2017 PPP GDP)</th>\n",
       "      <td>207</td>\n",
       "    </tr>\n",
       "    <tr>\n",
       "      <th>Renewable energy share in the total final energy consumption (%)</th>\n",
       "      <td>194</td>\n",
       "    </tr>\n",
       "    <tr>\n",
       "      <th>Access to clean fuels for cooking</th>\n",
       "      <td>169</td>\n",
       "    </tr>\n",
       "    <tr>\n",
       "      <th>Electricity from nuclear (TWh)</th>\n",
       "      <td>126</td>\n",
       "    </tr>\n",
       "    <tr>\n",
       "      <th>Low-carbon electricity (% electricity)</th>\n",
       "      <td>42</td>\n",
       "    </tr>\n",
       "    <tr>\n",
       "      <th>Electricity from renewables (TWh)</th>\n",
       "      <td>21</td>\n",
       "    </tr>\n",
       "    <tr>\n",
       "      <th>Electricity from fossil fuels (TWh)</th>\n",
       "      <td>21</td>\n",
       "    </tr>\n",
       "    <tr>\n",
       "      <th>Access to electricity (% of population)</th>\n",
       "      <td>10</td>\n",
       "    </tr>\n",
       "    <tr>\n",
       "      <th>Latitude</th>\n",
       "      <td>1</td>\n",
       "    </tr>\n",
       "    <tr>\n",
       "      <th>Land Area(Km2)</th>\n",
       "      <td>1</td>\n",
       "    </tr>\n",
       "    <tr>\n",
       "      <th>Density\\n(P/Km2)</th>\n",
       "      <td>1</td>\n",
       "    </tr>\n",
       "    <tr>\n",
       "      <th>Longitude</th>\n",
       "      <td>1</td>\n",
       "    </tr>\n",
       "    <tr>\n",
       "      <th>Primary energy consumption per capita (kWh/person)</th>\n",
       "      <td>0</td>\n",
       "    </tr>\n",
       "    <tr>\n",
       "      <th>Year</th>\n",
       "      <td>0</td>\n",
       "    </tr>\n",
       "    <tr>\n",
       "      <th>Entity</th>\n",
       "      <td>0</td>\n",
       "    </tr>\n",
       "  </tbody>\n",
       "</table>\n",
       "</div>"
      ],
      "text/plain": [
       "                                                    Null Values\n",
       "Renewables (% equivalent primary energy)                   2137\n",
       "Financial flows to developing countries (US $)             2089\n",
       "Renewable-electricity-generating-capacity-per-c...          931\n",
       "Value_co2_emissions_kt_by_country                           428\n",
       "gdp_growth                                                  317\n",
       "gdp_per_capita                                              282\n",
       "Energy intensity level of primary energy (MJ/$2...          207\n",
       "Renewable energy share in the total final energ...          194\n",
       "Access to clean fuels for cooking                           169\n",
       "Electricity from nuclear (TWh)                              126\n",
       "Low-carbon electricity (% electricity)                       42\n",
       "Electricity from renewables (TWh)                            21\n",
       "Electricity from fossil fuels (TWh)                          21\n",
       "Access to electricity (% of population)                      10\n",
       "Latitude                                                      1\n",
       "Land Area(Km2)                                                1\n",
       "Density\\n(P/Km2)                                              1\n",
       "Longitude                                                     1\n",
       "Primary energy consumption per capita (kWh/person)            0\n",
       "Year                                                          0\n",
       "Entity                                                        0"
      ]
     },
     "execution_count": 18,
     "metadata": {},
     "output_type": "execute_result"
    }
   ],
   "source": [
    "nulldata = pd.DataFrame(data.isnull().sum().sort_values(ascending=False)[:25])\n",
    "nulldata = nulldata.rename(columns = {0 : 'Null Values'})\n",
    "nulldata\n"
   ]
  },
  {
   "cell_type": "code",
   "execution_count": 19,
   "metadata": {},
   "outputs": [
    {
     "data": {
      "application/vnd.plotly.v1+json": {
       "config": {
        "plotlyServerURL": "https://plot.ly"
       },
       "data": [
        {
         "text": [
          2137,
          2089,
          931,
          428,
          317,
          282,
          207,
          194,
          169,
          126,
          42,
          21,
          21,
          10,
          1,
          1,
          1,
          1,
          0,
          0,
          0
         ],
         "textposition": "auto",
         "type": "bar",
         "x": [
          "Renewables (% equivalent primary energy)",
          "Financial flows to developing countries (US $)",
          "Renewable-electricity-generating-capacity-per-capita",
          "Value_co2_emissions_kt_by_country",
          "gdp_growth",
          "gdp_per_capita",
          "Energy intensity level of primary energy (MJ/$2017 PPP GDP)",
          "Renewable energy share in the total final energy consumption (%)",
          "Access to clean fuels for cooking",
          "Electricity from nuclear (TWh)",
          "Low-carbon electricity (% electricity)",
          "Electricity from renewables (TWh)",
          "Electricity from fossil fuels (TWh)",
          "Access to electricity (% of population)",
          "Latitude",
          "Land Area(Km2)",
          "Density\\n(P/Km2)",
          "Longitude",
          "Primary energy consumption per capita (kWh/person)",
          "Year",
          "Entity"
         ],
         "y": [
          2137,
          2089,
          931,
          428,
          317,
          282,
          207,
          194,
          169,
          126,
          42,
          21,
          21,
          10,
          1,
          1,
          1,
          1,
          0,
          0,
          0
         ]
        }
       ],
       "layout": {
        "template": {
         "data": {
          "bar": [
           {
            "error_x": {
             "color": "#f2f5fa"
            },
            "error_y": {
             "color": "#f2f5fa"
            },
            "marker": {
             "line": {
              "color": "rgb(17,17,17)",
              "width": 0.5
             },
             "pattern": {
              "fillmode": "overlay",
              "size": 10,
              "solidity": 0.2
             }
            },
            "type": "bar"
           }
          ],
          "barpolar": [
           {
            "marker": {
             "line": {
              "color": "rgb(17,17,17)",
              "width": 0.5
             },
             "pattern": {
              "fillmode": "overlay",
              "size": 10,
              "solidity": 0.2
             }
            },
            "type": "barpolar"
           }
          ],
          "carpet": [
           {
            "aaxis": {
             "endlinecolor": "#A2B1C6",
             "gridcolor": "#506784",
             "linecolor": "#506784",
             "minorgridcolor": "#506784",
             "startlinecolor": "#A2B1C6"
            },
            "baxis": {
             "endlinecolor": "#A2B1C6",
             "gridcolor": "#506784",
             "linecolor": "#506784",
             "minorgridcolor": "#506784",
             "startlinecolor": "#A2B1C6"
            },
            "type": "carpet"
           }
          ],
          "choropleth": [
           {
            "colorbar": {
             "outlinewidth": 0,
             "ticks": ""
            },
            "type": "choropleth"
           }
          ],
          "contour": [
           {
            "colorbar": {
             "outlinewidth": 0,
             "ticks": ""
            },
            "colorscale": [
             [
              0,
              "#0d0887"
             ],
             [
              0.1111111111111111,
              "#46039f"
             ],
             [
              0.2222222222222222,
              "#7201a8"
             ],
             [
              0.3333333333333333,
              "#9c179e"
             ],
             [
              0.4444444444444444,
              "#bd3786"
             ],
             [
              0.5555555555555556,
              "#d8576b"
             ],
             [
              0.6666666666666666,
              "#ed7953"
             ],
             [
              0.7777777777777778,
              "#fb9f3a"
             ],
             [
              0.8888888888888888,
              "#fdca26"
             ],
             [
              1,
              "#f0f921"
             ]
            ],
            "type": "contour"
           }
          ],
          "contourcarpet": [
           {
            "colorbar": {
             "outlinewidth": 0,
             "ticks": ""
            },
            "type": "contourcarpet"
           }
          ],
          "heatmap": [
           {
            "colorbar": {
             "outlinewidth": 0,
             "ticks": ""
            },
            "colorscale": [
             [
              0,
              "#0d0887"
             ],
             [
              0.1111111111111111,
              "#46039f"
             ],
             [
              0.2222222222222222,
              "#7201a8"
             ],
             [
              0.3333333333333333,
              "#9c179e"
             ],
             [
              0.4444444444444444,
              "#bd3786"
             ],
             [
              0.5555555555555556,
              "#d8576b"
             ],
             [
              0.6666666666666666,
              "#ed7953"
             ],
             [
              0.7777777777777778,
              "#fb9f3a"
             ],
             [
              0.8888888888888888,
              "#fdca26"
             ],
             [
              1,
              "#f0f921"
             ]
            ],
            "type": "heatmap"
           }
          ],
          "heatmapgl": [
           {
            "colorbar": {
             "outlinewidth": 0,
             "ticks": ""
            },
            "colorscale": [
             [
              0,
              "#0d0887"
             ],
             [
              0.1111111111111111,
              "#46039f"
             ],
             [
              0.2222222222222222,
              "#7201a8"
             ],
             [
              0.3333333333333333,
              "#9c179e"
             ],
             [
              0.4444444444444444,
              "#bd3786"
             ],
             [
              0.5555555555555556,
              "#d8576b"
             ],
             [
              0.6666666666666666,
              "#ed7953"
             ],
             [
              0.7777777777777778,
              "#fb9f3a"
             ],
             [
              0.8888888888888888,
              "#fdca26"
             ],
             [
              1,
              "#f0f921"
             ]
            ],
            "type": "heatmapgl"
           }
          ],
          "histogram": [
           {
            "marker": {
             "pattern": {
              "fillmode": "overlay",
              "size": 10,
              "solidity": 0.2
             }
            },
            "type": "histogram"
           }
          ],
          "histogram2d": [
           {
            "colorbar": {
             "outlinewidth": 0,
             "ticks": ""
            },
            "colorscale": [
             [
              0,
              "#0d0887"
             ],
             [
              0.1111111111111111,
              "#46039f"
             ],
             [
              0.2222222222222222,
              "#7201a8"
             ],
             [
              0.3333333333333333,
              "#9c179e"
             ],
             [
              0.4444444444444444,
              "#bd3786"
             ],
             [
              0.5555555555555556,
              "#d8576b"
             ],
             [
              0.6666666666666666,
              "#ed7953"
             ],
             [
              0.7777777777777778,
              "#fb9f3a"
             ],
             [
              0.8888888888888888,
              "#fdca26"
             ],
             [
              1,
              "#f0f921"
             ]
            ],
            "type": "histogram2d"
           }
          ],
          "histogram2dcontour": [
           {
            "colorbar": {
             "outlinewidth": 0,
             "ticks": ""
            },
            "colorscale": [
             [
              0,
              "#0d0887"
             ],
             [
              0.1111111111111111,
              "#46039f"
             ],
             [
              0.2222222222222222,
              "#7201a8"
             ],
             [
              0.3333333333333333,
              "#9c179e"
             ],
             [
              0.4444444444444444,
              "#bd3786"
             ],
             [
              0.5555555555555556,
              "#d8576b"
             ],
             [
              0.6666666666666666,
              "#ed7953"
             ],
             [
              0.7777777777777778,
              "#fb9f3a"
             ],
             [
              0.8888888888888888,
              "#fdca26"
             ],
             [
              1,
              "#f0f921"
             ]
            ],
            "type": "histogram2dcontour"
           }
          ],
          "mesh3d": [
           {
            "colorbar": {
             "outlinewidth": 0,
             "ticks": ""
            },
            "type": "mesh3d"
           }
          ],
          "parcoords": [
           {
            "line": {
             "colorbar": {
              "outlinewidth": 0,
              "ticks": ""
             }
            },
            "type": "parcoords"
           }
          ],
          "pie": [
           {
            "automargin": true,
            "type": "pie"
           }
          ],
          "scatter": [
           {
            "marker": {
             "line": {
              "color": "#283442"
             }
            },
            "type": "scatter"
           }
          ],
          "scatter3d": [
           {
            "line": {
             "colorbar": {
              "outlinewidth": 0,
              "ticks": ""
             }
            },
            "marker": {
             "colorbar": {
              "outlinewidth": 0,
              "ticks": ""
             }
            },
            "type": "scatter3d"
           }
          ],
          "scattercarpet": [
           {
            "marker": {
             "colorbar": {
              "outlinewidth": 0,
              "ticks": ""
             }
            },
            "type": "scattercarpet"
           }
          ],
          "scattergeo": [
           {
            "marker": {
             "colorbar": {
              "outlinewidth": 0,
              "ticks": ""
             }
            },
            "type": "scattergeo"
           }
          ],
          "scattergl": [
           {
            "marker": {
             "line": {
              "color": "#283442"
             }
            },
            "type": "scattergl"
           }
          ],
          "scattermapbox": [
           {
            "marker": {
             "colorbar": {
              "outlinewidth": 0,
              "ticks": ""
             }
            },
            "type": "scattermapbox"
           }
          ],
          "scatterpolar": [
           {
            "marker": {
             "colorbar": {
              "outlinewidth": 0,
              "ticks": ""
             }
            },
            "type": "scatterpolar"
           }
          ],
          "scatterpolargl": [
           {
            "marker": {
             "colorbar": {
              "outlinewidth": 0,
              "ticks": ""
             }
            },
            "type": "scatterpolargl"
           }
          ],
          "scatterternary": [
           {
            "marker": {
             "colorbar": {
              "outlinewidth": 0,
              "ticks": ""
             }
            },
            "type": "scatterternary"
           }
          ],
          "surface": [
           {
            "colorbar": {
             "outlinewidth": 0,
             "ticks": ""
            },
            "colorscale": [
             [
              0,
              "#0d0887"
             ],
             [
              0.1111111111111111,
              "#46039f"
             ],
             [
              0.2222222222222222,
              "#7201a8"
             ],
             [
              0.3333333333333333,
              "#9c179e"
             ],
             [
              0.4444444444444444,
              "#bd3786"
             ],
             [
              0.5555555555555556,
              "#d8576b"
             ],
             [
              0.6666666666666666,
              "#ed7953"
             ],
             [
              0.7777777777777778,
              "#fb9f3a"
             ],
             [
              0.8888888888888888,
              "#fdca26"
             ],
             [
              1,
              "#f0f921"
             ]
            ],
            "type": "surface"
           }
          ],
          "table": [
           {
            "cells": {
             "fill": {
              "color": "#506784"
             },
             "line": {
              "color": "rgb(17,17,17)"
             }
            },
            "header": {
             "fill": {
              "color": "#2a3f5f"
             },
             "line": {
              "color": "rgb(17,17,17)"
             }
            },
            "type": "table"
           }
          ]
         },
         "layout": {
          "annotationdefaults": {
           "arrowcolor": "#f2f5fa",
           "arrowhead": 0,
           "arrowwidth": 1
          },
          "autotypenumbers": "strict",
          "coloraxis": {
           "colorbar": {
            "outlinewidth": 0,
            "ticks": ""
           }
          },
          "colorscale": {
           "diverging": [
            [
             0,
             "#8e0152"
            ],
            [
             0.1,
             "#c51b7d"
            ],
            [
             0.2,
             "#de77ae"
            ],
            [
             0.3,
             "#f1b6da"
            ],
            [
             0.4,
             "#fde0ef"
            ],
            [
             0.5,
             "#f7f7f7"
            ],
            [
             0.6,
             "#e6f5d0"
            ],
            [
             0.7,
             "#b8e186"
            ],
            [
             0.8,
             "#7fbc41"
            ],
            [
             0.9,
             "#4d9221"
            ],
            [
             1,
             "#276419"
            ]
           ],
           "sequential": [
            [
             0,
             "#0d0887"
            ],
            [
             0.1111111111111111,
             "#46039f"
            ],
            [
             0.2222222222222222,
             "#7201a8"
            ],
            [
             0.3333333333333333,
             "#9c179e"
            ],
            [
             0.4444444444444444,
             "#bd3786"
            ],
            [
             0.5555555555555556,
             "#d8576b"
            ],
            [
             0.6666666666666666,
             "#ed7953"
            ],
            [
             0.7777777777777778,
             "#fb9f3a"
            ],
            [
             0.8888888888888888,
             "#fdca26"
            ],
            [
             1,
             "#f0f921"
            ]
           ],
           "sequentialminus": [
            [
             0,
             "#0d0887"
            ],
            [
             0.1111111111111111,
             "#46039f"
            ],
            [
             0.2222222222222222,
             "#7201a8"
            ],
            [
             0.3333333333333333,
             "#9c179e"
            ],
            [
             0.4444444444444444,
             "#bd3786"
            ],
            [
             0.5555555555555556,
             "#d8576b"
            ],
            [
             0.6666666666666666,
             "#ed7953"
            ],
            [
             0.7777777777777778,
             "#fb9f3a"
            ],
            [
             0.8888888888888888,
             "#fdca26"
            ],
            [
             1,
             "#f0f921"
            ]
           ]
          },
          "colorway": [
           "#636efa",
           "#EF553B",
           "#00cc96",
           "#ab63fa",
           "#FFA15A",
           "#19d3f3",
           "#FF6692",
           "#B6E880",
           "#FF97FF",
           "#FECB52"
          ],
          "font": {
           "color": "#f2f5fa"
          },
          "geo": {
           "bgcolor": "rgb(17,17,17)",
           "lakecolor": "rgb(17,17,17)",
           "landcolor": "rgb(17,17,17)",
           "showlakes": true,
           "showland": true,
           "subunitcolor": "#506784"
          },
          "hoverlabel": {
           "align": "left"
          },
          "hovermode": "closest",
          "mapbox": {
           "style": "dark"
          },
          "paper_bgcolor": "rgb(17,17,17)",
          "plot_bgcolor": "rgb(17,17,17)",
          "polar": {
           "angularaxis": {
            "gridcolor": "#506784",
            "linecolor": "#506784",
            "ticks": ""
           },
           "bgcolor": "rgb(17,17,17)",
           "radialaxis": {
            "gridcolor": "#506784",
            "linecolor": "#506784",
            "ticks": ""
           }
          },
          "scene": {
           "xaxis": {
            "backgroundcolor": "rgb(17,17,17)",
            "gridcolor": "#506784",
            "gridwidth": 2,
            "linecolor": "#506784",
            "showbackground": true,
            "ticks": "",
            "zerolinecolor": "#C8D4E3"
           },
           "yaxis": {
            "backgroundcolor": "rgb(17,17,17)",
            "gridcolor": "#506784",
            "gridwidth": 2,
            "linecolor": "#506784",
            "showbackground": true,
            "ticks": "",
            "zerolinecolor": "#C8D4E3"
           },
           "zaxis": {
            "backgroundcolor": "rgb(17,17,17)",
            "gridcolor": "#506784",
            "gridwidth": 2,
            "linecolor": "#506784",
            "showbackground": true,
            "ticks": "",
            "zerolinecolor": "#C8D4E3"
           }
          },
          "shapedefaults": {
           "line": {
            "color": "#f2f5fa"
           }
          },
          "sliderdefaults": {
           "bgcolor": "#C8D4E3",
           "bordercolor": "rgb(17,17,17)",
           "borderwidth": 1,
           "tickwidth": 0
          },
          "ternary": {
           "aaxis": {
            "gridcolor": "#506784",
            "linecolor": "#506784",
            "ticks": ""
           },
           "baxis": {
            "gridcolor": "#506784",
            "linecolor": "#506784",
            "ticks": ""
           },
           "bgcolor": "rgb(17,17,17)",
           "caxis": {
            "gridcolor": "#506784",
            "linecolor": "#506784",
            "ticks": ""
           }
          },
          "title": {
           "x": 0.05
          },
          "updatemenudefaults": {
           "bgcolor": "#506784",
           "borderwidth": 0
          },
          "xaxis": {
           "automargin": true,
           "gridcolor": "#283442",
           "linecolor": "#506784",
           "ticks": "",
           "title": {
            "standoff": 15
           },
           "zerolinecolor": "#283442",
           "zerolinewidth": 2
          },
          "yaxis": {
           "automargin": true,
           "gridcolor": "#283442",
           "linecolor": "#506784",
           "ticks": "",
           "title": {
            "standoff": 15
           },
           "zerolinecolor": "#283442",
           "zerolinewidth": 2
          }
         }
        },
        "title": {
         "text": "Null Values Count"
        },
        "xaxis": {
         "tickfont": {
          "size": 7
         }
        }
       }
      }
     },
     "metadata": {},
     "output_type": "display_data"
    }
   ],
   "source": [
    "fig_null_data = go.Figure()\n",
    "fig_null_data.add_trace(go.Bar(\n",
    "    x = nulldata.index,\n",
    "    y = nulldata['Null Values'],\n",
    "    text = nulldata['Null Values'],\n",
    "    textposition = 'auto'\n",
    "))\n",
    "fig_null_data.update_layout(\n",
    "    title = 'Null Values Count',\n",
    "    xaxis_tickfont_size = 7,\n",
    "    template = 'plotly_dark',\n",
    ")\n",
    "fig_null_data.show()"
   ]
  },
  {
   "cell_type": "code",
   "execution_count": 20,
   "metadata": {},
   "outputs": [
    {
     "data": {
      "text/plain": [
       "Index(['Entity', 'Year', 'Access to electricity (% of population)',\n",
       "       'Access to clean fuels for cooking',\n",
       "       'Renewable-electricity-generating-capacity-per-capita',\n",
       "       'Financial flows to developing countries (US $)',\n",
       "       'Renewable energy share in the total final energy consumption (%)',\n",
       "       'Electricity from fossil fuels (TWh)', 'Electricity from nuclear (TWh)',\n",
       "       'Electricity from renewables (TWh)',\n",
       "       'Low-carbon electricity (% electricity)',\n",
       "       'Primary energy consumption per capita (kWh/person)',\n",
       "       'Energy intensity level of primary energy (MJ/$2017 PPP GDP)',\n",
       "       'Value_co2_emissions_kt_by_country',\n",
       "       'Renewables (% equivalent primary energy)', 'gdp_growth',\n",
       "       'gdp_per_capita', 'Density\\n(P/Km2)', 'Land Area(Km2)', 'Latitude',\n",
       "       'Longitude'],\n",
       "      dtype='object')"
      ]
     },
     "execution_count": 20,
     "metadata": {},
     "output_type": "execute_result"
    }
   ],
   "source": [
    "data.columns"
   ]
  },
  {
   "cell_type": "code",
   "execution_count": 32,
   "metadata": {},
   "outputs": [
    {
     "data": {
      "text/html": [
       "<div>\n",
       "<style scoped>\n",
       "    .dataframe tbody tr th:only-of-type {\n",
       "        vertical-align: middle;\n",
       "    }\n",
       "\n",
       "    .dataframe tbody tr th {\n",
       "        vertical-align: top;\n",
       "    }\n",
       "\n",
       "    .dataframe thead th {\n",
       "        text-align: right;\n",
       "    }\n",
       "</style>\n",
       "<table border=\"1\" class=\"dataframe\">\n",
       "  <thead>\n",
       "    <tr style=\"text-align: right;\">\n",
       "      <th></th>\n",
       "      <th>Entity</th>\n",
       "      <th>Year</th>\n",
       "      <th>Access to electricity (% of population)</th>\n",
       "      <th>Access to clean fuels for cooking</th>\n",
       "      <th>Renewable-electricity-generating-capacity-per-capita</th>\n",
       "      <th>Financial flows to developing countries (US $)</th>\n",
       "      <th>Renewable energy share in the total final energy consumption (%)</th>\n",
       "      <th>Electricity from fossil fuels (TWh)</th>\n",
       "      <th>Electricity from nuclear (TWh)</th>\n",
       "      <th>Electricity from renewables (TWh)</th>\n",
       "      <th>Low-carbon electricity (% electricity)</th>\n",
       "      <th>Primary energy consumption per capita (kWh/person)</th>\n",
       "      <th>Energy intensity level of primary energy (MJ/$2017 PPP GDP)</th>\n",
       "      <th>Value_co2_emissions_kt_by_country</th>\n",
       "      <th>Renewables (% equivalent primary energy)</th>\n",
       "      <th>gdp_growth</th>\n",
       "      <th>gdp_per_capita</th>\n",
       "      <th>Density\\n(P/Km2)</th>\n",
       "      <th>Land Area(Km2)</th>\n",
       "      <th>Latitude</th>\n",
       "      <th>Longitude</th>\n",
       "    </tr>\n",
       "  </thead>\n",
       "  <tbody>\n",
       "    <tr>\n",
       "      <th>0</th>\n",
       "      <td>Afghanistan</td>\n",
       "      <td>2000</td>\n",
       "      <td>1.613591</td>\n",
       "      <td>6.2</td>\n",
       "      <td>9.22</td>\n",
       "      <td>20000.0</td>\n",
       "      <td>44.99</td>\n",
       "      <td>0.16</td>\n",
       "      <td>0.0</td>\n",
       "      <td>0.31</td>\n",
       "      <td>65.957440</td>\n",
       "      <td>302.59482</td>\n",
       "      <td>1.64</td>\n",
       "      <td>760.000000</td>\n",
       "      <td>NaN</td>\n",
       "      <td>NaN</td>\n",
       "      <td>NaN</td>\n",
       "      <td>60</td>\n",
       "      <td>6,52,230</td>\n",
       "      <td>33.939110</td>\n",
       "      <td>67.709953</td>\n",
       "    </tr>\n",
       "    <tr>\n",
       "      <th>1</th>\n",
       "      <td>Afghanistan</td>\n",
       "      <td>2001</td>\n",
       "      <td>4.074574</td>\n",
       "      <td>7.2</td>\n",
       "      <td>8.86</td>\n",
       "      <td>130000.0</td>\n",
       "      <td>45.60</td>\n",
       "      <td>0.09</td>\n",
       "      <td>0.0</td>\n",
       "      <td>0.50</td>\n",
       "      <td>84.745766</td>\n",
       "      <td>236.89185</td>\n",
       "      <td>1.74</td>\n",
       "      <td>730.000000</td>\n",
       "      <td>NaN</td>\n",
       "      <td>NaN</td>\n",
       "      <td>NaN</td>\n",
       "      <td>60</td>\n",
       "      <td>6,52,230</td>\n",
       "      <td>33.939110</td>\n",
       "      <td>67.709953</td>\n",
       "    </tr>\n",
       "    <tr>\n",
       "      <th>2</th>\n",
       "      <td>Afghanistan</td>\n",
       "      <td>2002</td>\n",
       "      <td>9.409158</td>\n",
       "      <td>8.2</td>\n",
       "      <td>8.47</td>\n",
       "      <td>3950000.0</td>\n",
       "      <td>37.83</td>\n",
       "      <td>0.13</td>\n",
       "      <td>0.0</td>\n",
       "      <td>0.56</td>\n",
       "      <td>81.159424</td>\n",
       "      <td>210.86215</td>\n",
       "      <td>1.40</td>\n",
       "      <td>1029.999971</td>\n",
       "      <td>NaN</td>\n",
       "      <td>NaN</td>\n",
       "      <td>179.426579</td>\n",
       "      <td>60</td>\n",
       "      <td>6,52,230</td>\n",
       "      <td>33.939110</td>\n",
       "      <td>67.709953</td>\n",
       "    </tr>\n",
       "    <tr>\n",
       "      <th>3</th>\n",
       "      <td>Afghanistan</td>\n",
       "      <td>2003</td>\n",
       "      <td>14.738506</td>\n",
       "      <td>9.5</td>\n",
       "      <td>8.09</td>\n",
       "      <td>25970000.0</td>\n",
       "      <td>36.66</td>\n",
       "      <td>0.31</td>\n",
       "      <td>0.0</td>\n",
       "      <td>0.63</td>\n",
       "      <td>67.021280</td>\n",
       "      <td>229.96822</td>\n",
       "      <td>1.40</td>\n",
       "      <td>1220.000029</td>\n",
       "      <td>NaN</td>\n",
       "      <td>8.832278</td>\n",
       "      <td>190.683814</td>\n",
       "      <td>60</td>\n",
       "      <td>6,52,230</td>\n",
       "      <td>33.939110</td>\n",
       "      <td>67.709953</td>\n",
       "    </tr>\n",
       "    <tr>\n",
       "      <th>5</th>\n",
       "      <td>Afghanistan</td>\n",
       "      <td>2005</td>\n",
       "      <td>25.390894</td>\n",
       "      <td>12.2</td>\n",
       "      <td>7.51</td>\n",
       "      <td>9830000.0</td>\n",
       "      <td>33.88</td>\n",
       "      <td>0.34</td>\n",
       "      <td>0.0</td>\n",
       "      <td>0.59</td>\n",
       "      <td>63.440857</td>\n",
       "      <td>252.06912</td>\n",
       "      <td>1.41</td>\n",
       "      <td>1549.999952</td>\n",
       "      <td>NaN</td>\n",
       "      <td>11.229715</td>\n",
       "      <td>242.031313</td>\n",
       "      <td>60</td>\n",
       "      <td>6,52,230</td>\n",
       "      <td>33.939110</td>\n",
       "      <td>67.709953</td>\n",
       "    </tr>\n",
       "    <tr>\n",
       "      <th>...</th>\n",
       "      <td>...</td>\n",
       "      <td>...</td>\n",
       "      <td>...</td>\n",
       "      <td>...</td>\n",
       "      <td>...</td>\n",
       "      <td>...</td>\n",
       "      <td>...</td>\n",
       "      <td>...</td>\n",
       "      <td>...</td>\n",
       "      <td>...</td>\n",
       "      <td>...</td>\n",
       "      <td>...</td>\n",
       "      <td>...</td>\n",
       "      <td>...</td>\n",
       "      <td>...</td>\n",
       "      <td>...</td>\n",
       "      <td>...</td>\n",
       "      <td>...</td>\n",
       "      <td>...</td>\n",
       "      <td>...</td>\n",
       "      <td>...</td>\n",
       "    </tr>\n",
       "    <tr>\n",
       "      <th>3644</th>\n",
       "      <td>Zimbabwe</td>\n",
       "      <td>2016</td>\n",
       "      <td>42.561730</td>\n",
       "      <td>29.8</td>\n",
       "      <td>62.88</td>\n",
       "      <td>30000.0</td>\n",
       "      <td>81.90</td>\n",
       "      <td>3.50</td>\n",
       "      <td>0.0</td>\n",
       "      <td>3.32</td>\n",
       "      <td>48.680350</td>\n",
       "      <td>3227.68020</td>\n",
       "      <td>10.00</td>\n",
       "      <td>11020.000460</td>\n",
       "      <td>NaN</td>\n",
       "      <td>0.755869</td>\n",
       "      <td>1464.588957</td>\n",
       "      <td>38</td>\n",
       "      <td>3,90,757</td>\n",
       "      <td>-19.015438</td>\n",
       "      <td>29.154857</td>\n",
       "    </tr>\n",
       "    <tr>\n",
       "      <th>3645</th>\n",
       "      <td>Zimbabwe</td>\n",
       "      <td>2017</td>\n",
       "      <td>44.178635</td>\n",
       "      <td>29.8</td>\n",
       "      <td>62.33</td>\n",
       "      <td>5570000.0</td>\n",
       "      <td>82.46</td>\n",
       "      <td>3.05</td>\n",
       "      <td>0.0</td>\n",
       "      <td>4.30</td>\n",
       "      <td>58.503407</td>\n",
       "      <td>3068.01150</td>\n",
       "      <td>9.51</td>\n",
       "      <td>10340.000150</td>\n",
       "      <td>NaN</td>\n",
       "      <td>4.709492</td>\n",
       "      <td>1235.189032</td>\n",
       "      <td>38</td>\n",
       "      <td>3,90,757</td>\n",
       "      <td>-19.015438</td>\n",
       "      <td>29.154857</td>\n",
       "    </tr>\n",
       "    <tr>\n",
       "      <th>3646</th>\n",
       "      <td>Zimbabwe</td>\n",
       "      <td>2018</td>\n",
       "      <td>45.572647</td>\n",
       "      <td>29.9</td>\n",
       "      <td>82.53</td>\n",
       "      <td>10000.0</td>\n",
       "      <td>80.23</td>\n",
       "      <td>3.73</td>\n",
       "      <td>0.0</td>\n",
       "      <td>5.46</td>\n",
       "      <td>59.412407</td>\n",
       "      <td>3441.98580</td>\n",
       "      <td>9.83</td>\n",
       "      <td>12380.000110</td>\n",
       "      <td>NaN</td>\n",
       "      <td>4.824211</td>\n",
       "      <td>1254.642265</td>\n",
       "      <td>38</td>\n",
       "      <td>3,90,757</td>\n",
       "      <td>-19.015438</td>\n",
       "      <td>29.154857</td>\n",
       "    </tr>\n",
       "    <tr>\n",
       "      <th>3647</th>\n",
       "      <td>Zimbabwe</td>\n",
       "      <td>2019</td>\n",
       "      <td>46.781475</td>\n",
       "      <td>30.1</td>\n",
       "      <td>81.40</td>\n",
       "      <td>250000.0</td>\n",
       "      <td>81.50</td>\n",
       "      <td>3.66</td>\n",
       "      <td>0.0</td>\n",
       "      <td>4.58</td>\n",
       "      <td>55.582527</td>\n",
       "      <td>3003.65530</td>\n",
       "      <td>10.47</td>\n",
       "      <td>11760.000230</td>\n",
       "      <td>NaN</td>\n",
       "      <td>-6.144236</td>\n",
       "      <td>1316.740657</td>\n",
       "      <td>38</td>\n",
       "      <td>3,90,757</td>\n",
       "      <td>-19.015438</td>\n",
       "      <td>29.154857</td>\n",
       "    </tr>\n",
       "    <tr>\n",
       "      <th>3648</th>\n",
       "      <td>Zimbabwe</td>\n",
       "      <td>2020</td>\n",
       "      <td>52.747670</td>\n",
       "      <td>30.4</td>\n",
       "      <td>80.61</td>\n",
       "      <td>30000.0</td>\n",
       "      <td>81.90</td>\n",
       "      <td>3.40</td>\n",
       "      <td>0.0</td>\n",
       "      <td>4.19</td>\n",
       "      <td>55.204216</td>\n",
       "      <td>2680.13180</td>\n",
       "      <td>10.00</td>\n",
       "      <td>NaN</td>\n",
       "      <td>NaN</td>\n",
       "      <td>-6.248748</td>\n",
       "      <td>1214.509820</td>\n",
       "      <td>38</td>\n",
       "      <td>3,90,757</td>\n",
       "      <td>-19.015438</td>\n",
       "      <td>29.154857</td>\n",
       "    </tr>\n",
       "  </tbody>\n",
       "</table>\n",
       "<p>1560 rows × 21 columns</p>\n",
       "</div>"
      ],
      "text/plain": [
       "           Entity  Year  Access to electricity (% of population)  \\\n",
       "0     Afghanistan  2000                                 1.613591   \n",
       "1     Afghanistan  2001                                 4.074574   \n",
       "2     Afghanistan  2002                                 9.409158   \n",
       "3     Afghanistan  2003                                14.738506   \n",
       "5     Afghanistan  2005                                25.390894   \n",
       "...           ...   ...                                      ...   \n",
       "3644     Zimbabwe  2016                                42.561730   \n",
       "3645     Zimbabwe  2017                                44.178635   \n",
       "3646     Zimbabwe  2018                                45.572647   \n",
       "3647     Zimbabwe  2019                                46.781475   \n",
       "3648     Zimbabwe  2020                                52.747670   \n",
       "\n",
       "      Access to clean fuels for cooking  \\\n",
       "0                                   6.2   \n",
       "1                                   7.2   \n",
       "2                                   8.2   \n",
       "3                                   9.5   \n",
       "5                                  12.2   \n",
       "...                                 ...   \n",
       "3644                               29.8   \n",
       "3645                               29.8   \n",
       "3646                               29.9   \n",
       "3647                               30.1   \n",
       "3648                               30.4   \n",
       "\n",
       "      Renewable-electricity-generating-capacity-per-capita  \\\n",
       "0                                                  9.22      \n",
       "1                                                  8.86      \n",
       "2                                                  8.47      \n",
       "3                                                  8.09      \n",
       "5                                                  7.51      \n",
       "...                                                 ...      \n",
       "3644                                              62.88      \n",
       "3645                                              62.33      \n",
       "3646                                              82.53      \n",
       "3647                                              81.40      \n",
       "3648                                              80.61      \n",
       "\n",
       "      Financial flows to developing countries (US $)  \\\n",
       "0                                            20000.0   \n",
       "1                                           130000.0   \n",
       "2                                          3950000.0   \n",
       "3                                         25970000.0   \n",
       "5                                          9830000.0   \n",
       "...                                              ...   \n",
       "3644                                         30000.0   \n",
       "3645                                       5570000.0   \n",
       "3646                                         10000.0   \n",
       "3647                                        250000.0   \n",
       "3648                                         30000.0   \n",
       "\n",
       "      Renewable energy share in the total final energy consumption (%)  \\\n",
       "0                                                 44.99                  \n",
       "1                                                 45.60                  \n",
       "2                                                 37.83                  \n",
       "3                                                 36.66                  \n",
       "5                                                 33.88                  \n",
       "...                                                 ...                  \n",
       "3644                                              81.90                  \n",
       "3645                                              82.46                  \n",
       "3646                                              80.23                  \n",
       "3647                                              81.50                  \n",
       "3648                                              81.90                  \n",
       "\n",
       "      Electricity from fossil fuels (TWh)  Electricity from nuclear (TWh)  \\\n",
       "0                                    0.16                             0.0   \n",
       "1                                    0.09                             0.0   \n",
       "2                                    0.13                             0.0   \n",
       "3                                    0.31                             0.0   \n",
       "5                                    0.34                             0.0   \n",
       "...                                   ...                             ...   \n",
       "3644                                 3.50                             0.0   \n",
       "3645                                 3.05                             0.0   \n",
       "3646                                 3.73                             0.0   \n",
       "3647                                 3.66                             0.0   \n",
       "3648                                 3.40                             0.0   \n",
       "\n",
       "      Electricity from renewables (TWh)  \\\n",
       "0                                  0.31   \n",
       "1                                  0.50   \n",
       "2                                  0.56   \n",
       "3                                  0.63   \n",
       "5                                  0.59   \n",
       "...                                 ...   \n",
       "3644                               3.32   \n",
       "3645                               4.30   \n",
       "3646                               5.46   \n",
       "3647                               4.58   \n",
       "3648                               4.19   \n",
       "\n",
       "      Low-carbon electricity (% electricity)  \\\n",
       "0                                  65.957440   \n",
       "1                                  84.745766   \n",
       "2                                  81.159424   \n",
       "3                                  67.021280   \n",
       "5                                  63.440857   \n",
       "...                                      ...   \n",
       "3644                               48.680350   \n",
       "3645                               58.503407   \n",
       "3646                               59.412407   \n",
       "3647                               55.582527   \n",
       "3648                               55.204216   \n",
       "\n",
       "      Primary energy consumption per capita (kWh/person)  \\\n",
       "0                                             302.59482    \n",
       "1                                             236.89185    \n",
       "2                                             210.86215    \n",
       "3                                             229.96822    \n",
       "5                                             252.06912    \n",
       "...                                                 ...    \n",
       "3644                                         3227.68020    \n",
       "3645                                         3068.01150    \n",
       "3646                                         3441.98580    \n",
       "3647                                         3003.65530    \n",
       "3648                                         2680.13180    \n",
       "\n",
       "      Energy intensity level of primary energy (MJ/$2017 PPP GDP)  \\\n",
       "0                                                  1.64             \n",
       "1                                                  1.74             \n",
       "2                                                  1.40             \n",
       "3                                                  1.40             \n",
       "5                                                  1.41             \n",
       "...                                                 ...             \n",
       "3644                                              10.00             \n",
       "3645                                               9.51             \n",
       "3646                                               9.83             \n",
       "3647                                              10.47             \n",
       "3648                                              10.00             \n",
       "\n",
       "      Value_co2_emissions_kt_by_country  \\\n",
       "0                            760.000000   \n",
       "1                            730.000000   \n",
       "2                           1029.999971   \n",
       "3                           1220.000029   \n",
       "5                           1549.999952   \n",
       "...                                 ...   \n",
       "3644                       11020.000460   \n",
       "3645                       10340.000150   \n",
       "3646                       12380.000110   \n",
       "3647                       11760.000230   \n",
       "3648                                NaN   \n",
       "\n",
       "      Renewables (% equivalent primary energy)  gdp_growth  gdp_per_capita  \\\n",
       "0                                          NaN         NaN             NaN   \n",
       "1                                          NaN         NaN             NaN   \n",
       "2                                          NaN         NaN      179.426579   \n",
       "3                                          NaN    8.832278      190.683814   \n",
       "5                                          NaN   11.229715      242.031313   \n",
       "...                                        ...         ...             ...   \n",
       "3644                                       NaN    0.755869     1464.588957   \n",
       "3645                                       NaN    4.709492     1235.189032   \n",
       "3646                                       NaN    4.824211     1254.642265   \n",
       "3647                                       NaN   -6.144236     1316.740657   \n",
       "3648                                       NaN   -6.248748     1214.509820   \n",
       "\n",
       "     Density\\n(P/Km2) Land Area(Km2)   Latitude  Longitude  \n",
       "0                  60       6,52,230  33.939110  67.709953  \n",
       "1                  60       6,52,230  33.939110  67.709953  \n",
       "2                  60       6,52,230  33.939110  67.709953  \n",
       "3                  60       6,52,230  33.939110  67.709953  \n",
       "5                  60       6,52,230  33.939110  67.709953  \n",
       "...               ...            ...        ...        ...  \n",
       "3644               38       3,90,757 -19.015438  29.154857  \n",
       "3645               38       3,90,757 -19.015438  29.154857  \n",
       "3646               38       3,90,757 -19.015438  29.154857  \n",
       "3647               38       3,90,757 -19.015438  29.154857  \n",
       "3648               38       3,90,757 -19.015438  29.154857  \n",
       "\n",
       "[1560 rows x 21 columns]"
      ]
     },
     "execution_count": 32,
     "metadata": {},
     "output_type": "execute_result"
    }
   ],
   "source": [
    "data[data['Financial flows to developing countries (US $)'].notnull()]"
   ]
  },
  {
   "cell_type": "code",
   "execution_count": 60,
   "metadata": {},
   "outputs": [
    {
     "data": {
      "text/html": [
       "<div>\n",
       "<style scoped>\n",
       "    .dataframe tbody tr th:only-of-type {\n",
       "        vertical-align: middle;\n",
       "    }\n",
       "\n",
       "    .dataframe tbody tr th {\n",
       "        vertical-align: top;\n",
       "    }\n",
       "\n",
       "    .dataframe thead th {\n",
       "        text-align: right;\n",
       "    }\n",
       "</style>\n",
       "<table border=\"1\" class=\"dataframe\">\n",
       "  <thead>\n",
       "    <tr style=\"text-align: right;\">\n",
       "      <th></th>\n",
       "      <th>Entity</th>\n",
       "      <th>Year</th>\n",
       "      <th>Access to electricity (% of population)</th>\n",
       "      <th>Access to clean fuels for cooking</th>\n",
       "      <th>Renewable-electricity-generating-capacity-per-capita</th>\n",
       "      <th>Financial flows to developing countries (US $)</th>\n",
       "      <th>Renewable energy share in the total final energy consumption (%)</th>\n",
       "      <th>Electricity from fossil fuels (TWh)</th>\n",
       "      <th>Electricity from nuclear (TWh)</th>\n",
       "      <th>Electricity from renewables (TWh)</th>\n",
       "      <th>Low-carbon electricity (% electricity)</th>\n",
       "      <th>Primary energy consumption per capita (kWh/person)</th>\n",
       "      <th>Energy intensity level of primary energy (MJ/$2017 PPP GDP)</th>\n",
       "      <th>Value_co2_emissions_kt_by_country</th>\n",
       "      <th>Renewables (% equivalent primary energy)</th>\n",
       "      <th>gdp_growth</th>\n",
       "      <th>gdp_per_capita</th>\n",
       "      <th>Density\\n(P/Km2)</th>\n",
       "      <th>Land Area(Km2)</th>\n",
       "      <th>Latitude</th>\n",
       "      <th>Longitude</th>\n",
       "    </tr>\n",
       "  </thead>\n",
       "  <tbody>\n",
       "    <tr>\n",
       "      <th>2619</th>\n",
       "      <td>Philippines</td>\n",
       "      <td>2000</td>\n",
       "      <td>74.661690</td>\n",
       "      <td>37.90</td>\n",
       "      <td>48.53</td>\n",
       "      <td>12130000.0</td>\n",
       "      <td>33.42</td>\n",
       "      <td>24.29</td>\n",
       "      <td>0.0</td>\n",
       "      <td>19.37</td>\n",
       "      <td>44.365555</td>\n",
       "      <td>3945.0947</td>\n",
       "      <td>4.72</td>\n",
       "      <td>72100.00000</td>\n",
       "      <td>18.595215</td>\n",
       "      <td>4.382505</td>\n",
       "      <td>1072.801752</td>\n",
       "      <td>368</td>\n",
       "      <td>3,00,000</td>\n",
       "      <td>12.879721</td>\n",
       "      <td>121.774017</td>\n",
       "    </tr>\n",
       "    <tr>\n",
       "      <th>2620</th>\n",
       "      <td>Philippines</td>\n",
       "      <td>2001</td>\n",
       "      <td>75.722946</td>\n",
       "      <td>39.15</td>\n",
       "      <td>48.53</td>\n",
       "      <td>30000.0</td>\n",
       "      <td>32.12</td>\n",
       "      <td>27.72</td>\n",
       "      <td>0.0</td>\n",
       "      <td>17.50</td>\n",
       "      <td>38.699688</td>\n",
       "      <td>3776.7449</td>\n",
       "      <td>4.36</td>\n",
       "      <td>70480.00000</td>\n",
       "      <td>16.949202</td>\n",
       "      <td>3.049232</td>\n",
       "      <td>990.565991</td>\n",
       "      <td>368</td>\n",
       "      <td>3,00,000</td>\n",
       "      <td>12.879721</td>\n",
       "      <td>121.774017</td>\n",
       "    </tr>\n",
       "    <tr>\n",
       "      <th>2621</th>\n",
       "      <td>Philippines</td>\n",
       "      <td>2002</td>\n",
       "      <td>76.776620</td>\n",
       "      <td>39.60</td>\n",
       "      <td>50.08</td>\n",
       "      <td>50390000.0</td>\n",
       "      <td>31.42</td>\n",
       "      <td>29.29</td>\n",
       "      <td>0.0</td>\n",
       "      <td>17.22</td>\n",
       "      <td>37.024296</td>\n",
       "      <td>3717.3660</td>\n",
       "      <td>4.26</td>\n",
       "      <td>71569.99969</td>\n",
       "      <td>16.691975</td>\n",
       "      <td>3.716255</td>\n",
       "      <td>1036.158331</td>\n",
       "      <td>368</td>\n",
       "      <td>3,00,000</td>\n",
       "      <td>12.879721</td>\n",
       "      <td>121.774017</td>\n",
       "    </tr>\n",
       "    <tr>\n",
       "      <th>2622</th>\n",
       "      <td>Philippines</td>\n",
       "      <td>2003</td>\n",
       "      <td>76.600000</td>\n",
       "      <td>40.10</td>\n",
       "      <td>54.30</td>\n",
       "      <td>29150000.0</td>\n",
       "      <td>30.67</td>\n",
       "      <td>33.03</td>\n",
       "      <td>0.0</td>\n",
       "      <td>17.64</td>\n",
       "      <td>34.813500</td>\n",
       "      <td>3758.5122</td>\n",
       "      <td>4.06</td>\n",
       "      <td>73629.99725</td>\n",
       "      <td>16.424408</td>\n",
       "      <td>5.086911</td>\n",
       "      <td>1048.008205</td>\n",
       "      <td>368</td>\n",
       "      <td>3,00,000</td>\n",
       "      <td>12.879721</td>\n",
       "      <td>121.774017</td>\n",
       "    </tr>\n",
       "    <tr>\n",
       "      <th>2623</th>\n",
       "      <td>Philippines</td>\n",
       "      <td>2004</td>\n",
       "      <td>87.600000</td>\n",
       "      <td>40.90</td>\n",
       "      <td>53.26</td>\n",
       "      <td>5840000.0</td>\n",
       "      <td>29.96</td>\n",
       "      <td>34.83</td>\n",
       "      <td>0.0</td>\n",
       "      <td>18.82</td>\n",
       "      <td>35.079216</td>\n",
       "      <td>3771.7970</td>\n",
       "      <td>3.78</td>\n",
       "      <td>75139.99939</td>\n",
       "      <td>16.852709</td>\n",
       "      <td>6.569229</td>\n",
       "      <td>1121.490006</td>\n",
       "      <td>368</td>\n",
       "      <td>3,00,000</td>\n",
       "      <td>12.879721</td>\n",
       "      <td>121.774017</td>\n",
       "    </tr>\n",
       "    <tr>\n",
       "      <th>2624</th>\n",
       "      <td>Philippines</td>\n",
       "      <td>2005</td>\n",
       "      <td>79.915620</td>\n",
       "      <td>40.90</td>\n",
       "      <td>52.65</td>\n",
       "      <td>11820000.0</td>\n",
       "      <td>31.17</td>\n",
       "      <td>35.94</td>\n",
       "      <td>0.0</td>\n",
       "      <td>18.25</td>\n",
       "      <td>33.677803</td>\n",
       "      <td>3713.3245</td>\n",
       "      <td>3.70</td>\n",
       "      <td>76669.99817</td>\n",
       "      <td>16.317411</td>\n",
       "      <td>4.942505</td>\n",
       "      <td>1244.348741</td>\n",
       "      <td>368</td>\n",
       "      <td>3,00,000</td>\n",
       "      <td>12.879721</td>\n",
       "      <td>121.774017</td>\n",
       "    </tr>\n",
       "    <tr>\n",
       "      <th>2625</th>\n",
       "      <td>Philippines</td>\n",
       "      <td>2006</td>\n",
       "      <td>80.180000</td>\n",
       "      <td>41.40</td>\n",
       "      <td>51.72</td>\n",
       "      <td>27510000.0</td>\n",
       "      <td>33.24</td>\n",
       "      <td>34.12</td>\n",
       "      <td>0.0</td>\n",
       "      <td>20.39</td>\n",
       "      <td>37.405983</td>\n",
       "      <td>3471.6638</td>\n",
       "      <td>3.49</td>\n",
       "      <td>69470.00122</td>\n",
       "      <td>18.684961</td>\n",
       "      <td>5.316417</td>\n",
       "      <td>1452.438089</td>\n",
       "      <td>368</td>\n",
       "      <td>3,00,000</td>\n",
       "      <td>12.879721</td>\n",
       "      <td>121.774017</td>\n",
       "    </tr>\n",
       "    <tr>\n",
       "      <th>2626</th>\n",
       "      <td>Philippines</td>\n",
       "      <td>2007</td>\n",
       "      <td>82.013910</td>\n",
       "      <td>40.90</td>\n",
       "      <td>50.86</td>\n",
       "      <td>167610000.0</td>\n",
       "      <td>32.57</td>\n",
       "      <td>38.29</td>\n",
       "      <td>0.0</td>\n",
       "      <td>18.80</td>\n",
       "      <td>32.930458</td>\n",
       "      <td>3535.2363</td>\n",
       "      <td>3.33</td>\n",
       "      <td>73220.00122</td>\n",
       "      <td>16.430105</td>\n",
       "      <td>6.519292</td>\n",
       "      <td>1744.639979</td>\n",
       "      <td>368</td>\n",
       "      <td>3,00,000</td>\n",
       "      <td>12.879721</td>\n",
       "      <td>121.774017</td>\n",
       "    </tr>\n",
       "    <tr>\n",
       "      <th>2627</th>\n",
       "      <td>Philippines</td>\n",
       "      <td>2008</td>\n",
       "      <td>83.300000</td>\n",
       "      <td>40.80</td>\n",
       "      <td>50.06</td>\n",
       "      <td>NaN</td>\n",
       "      <td>33.91</td>\n",
       "      <td>37.75</td>\n",
       "      <td>0.0</td>\n",
       "      <td>20.56</td>\n",
       "      <td>35.259820</td>\n",
       "      <td>3587.5803</td>\n",
       "      <td>3.35</td>\n",
       "      <td>75150.00153</td>\n",
       "      <td>17.313362</td>\n",
       "      <td>4.344487</td>\n",
       "      <td>1998.026920</td>\n",
       "      <td>368</td>\n",
       "      <td>3,00,000</td>\n",
       "      <td>12.879721</td>\n",
       "      <td>121.774017</td>\n",
       "    </tr>\n",
       "    <tr>\n",
       "      <th>2628</th>\n",
       "      <td>Philippines</td>\n",
       "      <td>2009</td>\n",
       "      <td>84.300000</td>\n",
       "      <td>40.90</td>\n",
       "      <td>49.67</td>\n",
       "      <td>3860000.0</td>\n",
       "      <td>33.98</td>\n",
       "      <td>39.10</td>\n",
       "      <td>0.0</td>\n",
       "      <td>20.26</td>\n",
       "      <td>34.130726</td>\n",
       "      <td>3563.5925</td>\n",
       "      <td>3.22</td>\n",
       "      <td>76300.00305</td>\n",
       "      <td>16.679699</td>\n",
       "      <td>1.448323</td>\n",
       "      <td>1904.196388</td>\n",
       "      <td>368</td>\n",
       "      <td>3,00,000</td>\n",
       "      <td>12.879721</td>\n",
       "      <td>121.774017</td>\n",
       "    </tr>\n",
       "    <tr>\n",
       "      <th>2629</th>\n",
       "      <td>Philippines</td>\n",
       "      <td>2010</td>\n",
       "      <td>85.397644</td>\n",
       "      <td>40.70</td>\n",
       "      <td>51.19</td>\n",
       "      <td>80870000.0</td>\n",
       "      <td>32.59</td>\n",
       "      <td>46.55</td>\n",
       "      <td>0.0</td>\n",
       "      <td>18.15</td>\n",
       "      <td>28.052551</td>\n",
       "      <td>3601.5786</td>\n",
       "      <td>3.14</td>\n",
       "      <td>81930.00031</td>\n",
       "      <td>14.187132</td>\n",
       "      <td>7.334500</td>\n",
       "      <td>2217.472153</td>\n",
       "      <td>368</td>\n",
       "      <td>3,00,000</td>\n",
       "      <td>12.879721</td>\n",
       "      <td>121.774017</td>\n",
       "    </tr>\n",
       "    <tr>\n",
       "      <th>2630</th>\n",
       "      <td>Philippines</td>\n",
       "      <td>2011</td>\n",
       "      <td>87.200000</td>\n",
       "      <td>40.60</td>\n",
       "      <td>50.41</td>\n",
       "      <td>810000.0</td>\n",
       "      <td>33.69</td>\n",
       "      <td>49.04</td>\n",
       "      <td>0.0</td>\n",
       "      <td>20.09</td>\n",
       "      <td>29.061190</td>\n",
       "      <td>3608.6260</td>\n",
       "      <td>3.06</td>\n",
       "      <td>82629.99725</td>\n",
       "      <td>15.432299</td>\n",
       "      <td>3.858233</td>\n",
       "      <td>2450.735694</td>\n",
       "      <td>368</td>\n",
       "      <td>3,00,000</td>\n",
       "      <td>12.879721</td>\n",
       "      <td>121.774017</td>\n",
       "    </tr>\n",
       "    <tr>\n",
       "      <th>2631</th>\n",
       "      <td>Philippines</td>\n",
       "      <td>2012</td>\n",
       "      <td>87.080000</td>\n",
       "      <td>40.70</td>\n",
       "      <td>49.88</td>\n",
       "      <td>1300000.0</td>\n",
       "      <td>34.06</td>\n",
       "      <td>51.82</td>\n",
       "      <td>0.0</td>\n",
       "      <td>21.06</td>\n",
       "      <td>28.896818</td>\n",
       "      <td>3668.3667</td>\n",
       "      <td>2.99</td>\n",
       "      <td>86180.00031</td>\n",
       "      <td>15.557659</td>\n",
       "      <td>6.896952</td>\n",
       "      <td>2694.305109</td>\n",
       "      <td>368</td>\n",
       "      <td>3,00,000</td>\n",
       "      <td>12.879721</td>\n",
       "      <td>121.774017</td>\n",
       "    </tr>\n",
       "    <tr>\n",
       "      <th>2632</th>\n",
       "      <td>Philippines</td>\n",
       "      <td>2013</td>\n",
       "      <td>87.500000</td>\n",
       "      <td>40.90</td>\n",
       "      <td>49.12</td>\n",
       "      <td>53290000.0</td>\n",
       "      <td>33.05</td>\n",
       "      <td>55.06</td>\n",
       "      <td>0.0</td>\n",
       "      <td>20.18</td>\n",
       "      <td>26.820840</td>\n",
       "      <td>3865.7610</td>\n",
       "      <td>2.89</td>\n",
       "      <td>95500.00000</td>\n",
       "      <td>13.847136</td>\n",
       "      <td>6.750531</td>\n",
       "      <td>2871.429701</td>\n",
       "      <td>368</td>\n",
       "      <td>3,00,000</td>\n",
       "      <td>12.879721</td>\n",
       "      <td>121.774017</td>\n",
       "    </tr>\n",
       "    <tr>\n",
       "      <th>2633</th>\n",
       "      <td>Philippines</td>\n",
       "      <td>2014</td>\n",
       "      <td>89.720370</td>\n",
       "      <td>42.00</td>\n",
       "      <td>52.54</td>\n",
       "      <td>9290000.0</td>\n",
       "      <td>32.33</td>\n",
       "      <td>57.07</td>\n",
       "      <td>0.0</td>\n",
       "      <td>20.18</td>\n",
       "      <td>26.122978</td>\n",
       "      <td>4002.7449</td>\n",
       "      <td>2.90</td>\n",
       "      <td>101819.99970</td>\n",
       "      <td>13.009114</td>\n",
       "      <td>6.347987</td>\n",
       "      <td>2959.645435</td>\n",
       "      <td>368</td>\n",
       "      <td>3,00,000</td>\n",
       "      <td>12.879721</td>\n",
       "      <td>121.774017</td>\n",
       "    </tr>\n",
       "    <tr>\n",
       "      <th>2634</th>\n",
       "      <td>Philippines</td>\n",
       "      <td>2015</td>\n",
       "      <td>89.080000</td>\n",
       "      <td>42.20</td>\n",
       "      <td>55.08</td>\n",
       "      <td>22760000.0</td>\n",
       "      <td>30.75</td>\n",
       "      <td>60.82</td>\n",
       "      <td>0.0</td>\n",
       "      <td>21.59</td>\n",
       "      <td>26.198277</td>\n",
       "      <td>4314.0645</td>\n",
       "      <td>2.96</td>\n",
       "      <td>111010.00210</td>\n",
       "      <td>12.500741</td>\n",
       "      <td>6.348310</td>\n",
       "      <td>3001.043182</td>\n",
       "      <td>368</td>\n",
       "      <td>3,00,000</td>\n",
       "      <td>12.879721</td>\n",
       "      <td>121.774017</td>\n",
       "    </tr>\n",
       "    <tr>\n",
       "      <th>2635</th>\n",
       "      <td>Philippines</td>\n",
       "      <td>2016</td>\n",
       "      <td>92.066505</td>\n",
       "      <td>43.30</td>\n",
       "      <td>60.51</td>\n",
       "      <td>98890000.0</td>\n",
       "      <td>28.45</td>\n",
       "      <td>68.44</td>\n",
       "      <td>0.0</td>\n",
       "      <td>22.38</td>\n",
       "      <td>24.642149</td>\n",
       "      <td>4629.1177</td>\n",
       "      <td>2.93</td>\n",
       "      <td>121959.99910</td>\n",
       "      <td>11.975790</td>\n",
       "      <td>7.149457</td>\n",
       "      <td>3073.654686</td>\n",
       "      <td>368</td>\n",
       "      <td>3,00,000</td>\n",
       "      <td>12.879721</td>\n",
       "      <td>121.774017</td>\n",
       "    </tr>\n",
       "    <tr>\n",
       "      <th>2636</th>\n",
       "      <td>Philippines</td>\n",
       "      <td>2017</td>\n",
       "      <td>93.000000</td>\n",
       "      <td>44.10</td>\n",
       "      <td>61.08</td>\n",
       "      <td>1510000.0</td>\n",
       "      <td>27.68</td>\n",
       "      <td>71.03</td>\n",
       "      <td>0.0</td>\n",
       "      <td>23.35</td>\n",
       "      <td>24.740412</td>\n",
       "      <td>4989.8896</td>\n",
       "      <td>2.89</td>\n",
       "      <td>133500.00000</td>\n",
       "      <td>11.504091</td>\n",
       "      <td>6.930988</td>\n",
       "      <td>3123.245642</td>\n",
       "      <td>368</td>\n",
       "      <td>3,00,000</td>\n",
       "      <td>12.879721</td>\n",
       "      <td>121.774017</td>\n",
       "    </tr>\n",
       "    <tr>\n",
       "      <th>2637</th>\n",
       "      <td>Philippines</td>\n",
       "      <td>2018</td>\n",
       "      <td>94.448265</td>\n",
       "      <td>45.40</td>\n",
       "      <td>61.82</td>\n",
       "      <td>177920000.0</td>\n",
       "      <td>27.51</td>\n",
       "      <td>76.05</td>\n",
       "      <td>0.0</td>\n",
       "      <td>23.73</td>\n",
       "      <td>23.782322</td>\n",
       "      <td>5040.6440</td>\n",
       "      <td>2.81</td>\n",
       "      <td>138570.00730</td>\n",
       "      <td>11.201896</td>\n",
       "      <td>6.341486</td>\n",
       "      <td>3252.110274</td>\n",
       "      <td>368</td>\n",
       "      <td>3,00,000</td>\n",
       "      <td>12.879721</td>\n",
       "      <td>121.774017</td>\n",
       "    </tr>\n",
       "    <tr>\n",
       "      <th>2638</th>\n",
       "      <td>Philippines</td>\n",
       "      <td>2019</td>\n",
       "      <td>95.645080</td>\n",
       "      <td>46.50</td>\n",
       "      <td>62.55</td>\n",
       "      <td>2000000.0</td>\n",
       "      <td>26.73</td>\n",
       "      <td>83.30</td>\n",
       "      <td>0.0</td>\n",
       "      <td>22.78</td>\n",
       "      <td>21.474360</td>\n",
       "      <td>5104.3910</td>\n",
       "      <td>2.68</td>\n",
       "      <td>145419.99820</td>\n",
       "      <td>10.227248</td>\n",
       "      <td>6.118526</td>\n",
       "      <td>3485.340844</td>\n",
       "      <td>368</td>\n",
       "      <td>3,00,000</td>\n",
       "      <td>12.879721</td>\n",
       "      <td>121.774017</td>\n",
       "    </tr>\n",
       "    <tr>\n",
       "      <th>2639</th>\n",
       "      <td>Philippines</td>\n",
       "      <td>2020</td>\n",
       "      <td>96.842384</td>\n",
       "      <td>48.00</td>\n",
       "      <td>62.39</td>\n",
       "      <td>NaN</td>\n",
       "      <td>NaN</td>\n",
       "      <td>79.27</td>\n",
       "      <td>0.0</td>\n",
       "      <td>23.21</td>\n",
       "      <td>22.648321</td>\n",
       "      <td>4565.3384</td>\n",
       "      <td>NaN</td>\n",
       "      <td>NaN</td>\n",
       "      <td>11.044730</td>\n",
       "      <td>-9.573030</td>\n",
       "      <td>3298.829586</td>\n",
       "      <td>368</td>\n",
       "      <td>3,00,000</td>\n",
       "      <td>12.879721</td>\n",
       "      <td>121.774017</td>\n",
       "    </tr>\n",
       "  </tbody>\n",
       "</table>\n",
       "</div>"
      ],
      "text/plain": [
       "           Entity  Year  Access to electricity (% of population)  \\\n",
       "2619  Philippines  2000                                74.661690   \n",
       "2620  Philippines  2001                                75.722946   \n",
       "2621  Philippines  2002                                76.776620   \n",
       "2622  Philippines  2003                                76.600000   \n",
       "2623  Philippines  2004                                87.600000   \n",
       "2624  Philippines  2005                                79.915620   \n",
       "2625  Philippines  2006                                80.180000   \n",
       "2626  Philippines  2007                                82.013910   \n",
       "2627  Philippines  2008                                83.300000   \n",
       "2628  Philippines  2009                                84.300000   \n",
       "2629  Philippines  2010                                85.397644   \n",
       "2630  Philippines  2011                                87.200000   \n",
       "2631  Philippines  2012                                87.080000   \n",
       "2632  Philippines  2013                                87.500000   \n",
       "2633  Philippines  2014                                89.720370   \n",
       "2634  Philippines  2015                                89.080000   \n",
       "2635  Philippines  2016                                92.066505   \n",
       "2636  Philippines  2017                                93.000000   \n",
       "2637  Philippines  2018                                94.448265   \n",
       "2638  Philippines  2019                                95.645080   \n",
       "2639  Philippines  2020                                96.842384   \n",
       "\n",
       "      Access to clean fuels for cooking  \\\n",
       "2619                              37.90   \n",
       "2620                              39.15   \n",
       "2621                              39.60   \n",
       "2622                              40.10   \n",
       "2623                              40.90   \n",
       "2624                              40.90   \n",
       "2625                              41.40   \n",
       "2626                              40.90   \n",
       "2627                              40.80   \n",
       "2628                              40.90   \n",
       "2629                              40.70   \n",
       "2630                              40.60   \n",
       "2631                              40.70   \n",
       "2632                              40.90   \n",
       "2633                              42.00   \n",
       "2634                              42.20   \n",
       "2635                              43.30   \n",
       "2636                              44.10   \n",
       "2637                              45.40   \n",
       "2638                              46.50   \n",
       "2639                              48.00   \n",
       "\n",
       "      Renewable-electricity-generating-capacity-per-capita  \\\n",
       "2619                                              48.53      \n",
       "2620                                              48.53      \n",
       "2621                                              50.08      \n",
       "2622                                              54.30      \n",
       "2623                                              53.26      \n",
       "2624                                              52.65      \n",
       "2625                                              51.72      \n",
       "2626                                              50.86      \n",
       "2627                                              50.06      \n",
       "2628                                              49.67      \n",
       "2629                                              51.19      \n",
       "2630                                              50.41      \n",
       "2631                                              49.88      \n",
       "2632                                              49.12      \n",
       "2633                                              52.54      \n",
       "2634                                              55.08      \n",
       "2635                                              60.51      \n",
       "2636                                              61.08      \n",
       "2637                                              61.82      \n",
       "2638                                              62.55      \n",
       "2639                                              62.39      \n",
       "\n",
       "      Financial flows to developing countries (US $)  \\\n",
       "2619                                      12130000.0   \n",
       "2620                                         30000.0   \n",
       "2621                                      50390000.0   \n",
       "2622                                      29150000.0   \n",
       "2623                                       5840000.0   \n",
       "2624                                      11820000.0   \n",
       "2625                                      27510000.0   \n",
       "2626                                     167610000.0   \n",
       "2627                                             NaN   \n",
       "2628                                       3860000.0   \n",
       "2629                                      80870000.0   \n",
       "2630                                        810000.0   \n",
       "2631                                       1300000.0   \n",
       "2632                                      53290000.0   \n",
       "2633                                       9290000.0   \n",
       "2634                                      22760000.0   \n",
       "2635                                      98890000.0   \n",
       "2636                                       1510000.0   \n",
       "2637                                     177920000.0   \n",
       "2638                                       2000000.0   \n",
       "2639                                             NaN   \n",
       "\n",
       "      Renewable energy share in the total final energy consumption (%)  \\\n",
       "2619                                              33.42                  \n",
       "2620                                              32.12                  \n",
       "2621                                              31.42                  \n",
       "2622                                              30.67                  \n",
       "2623                                              29.96                  \n",
       "2624                                              31.17                  \n",
       "2625                                              33.24                  \n",
       "2626                                              32.57                  \n",
       "2627                                              33.91                  \n",
       "2628                                              33.98                  \n",
       "2629                                              32.59                  \n",
       "2630                                              33.69                  \n",
       "2631                                              34.06                  \n",
       "2632                                              33.05                  \n",
       "2633                                              32.33                  \n",
       "2634                                              30.75                  \n",
       "2635                                              28.45                  \n",
       "2636                                              27.68                  \n",
       "2637                                              27.51                  \n",
       "2638                                              26.73                  \n",
       "2639                                                NaN                  \n",
       "\n",
       "      Electricity from fossil fuels (TWh)  Electricity from nuclear (TWh)  \\\n",
       "2619                                24.29                             0.0   \n",
       "2620                                27.72                             0.0   \n",
       "2621                                29.29                             0.0   \n",
       "2622                                33.03                             0.0   \n",
       "2623                                34.83                             0.0   \n",
       "2624                                35.94                             0.0   \n",
       "2625                                34.12                             0.0   \n",
       "2626                                38.29                             0.0   \n",
       "2627                                37.75                             0.0   \n",
       "2628                                39.10                             0.0   \n",
       "2629                                46.55                             0.0   \n",
       "2630                                49.04                             0.0   \n",
       "2631                                51.82                             0.0   \n",
       "2632                                55.06                             0.0   \n",
       "2633                                57.07                             0.0   \n",
       "2634                                60.82                             0.0   \n",
       "2635                                68.44                             0.0   \n",
       "2636                                71.03                             0.0   \n",
       "2637                                76.05                             0.0   \n",
       "2638                                83.30                             0.0   \n",
       "2639                                79.27                             0.0   \n",
       "\n",
       "      Electricity from renewables (TWh)  \\\n",
       "2619                              19.37   \n",
       "2620                              17.50   \n",
       "2621                              17.22   \n",
       "2622                              17.64   \n",
       "2623                              18.82   \n",
       "2624                              18.25   \n",
       "2625                              20.39   \n",
       "2626                              18.80   \n",
       "2627                              20.56   \n",
       "2628                              20.26   \n",
       "2629                              18.15   \n",
       "2630                              20.09   \n",
       "2631                              21.06   \n",
       "2632                              20.18   \n",
       "2633                              20.18   \n",
       "2634                              21.59   \n",
       "2635                              22.38   \n",
       "2636                              23.35   \n",
       "2637                              23.73   \n",
       "2638                              22.78   \n",
       "2639                              23.21   \n",
       "\n",
       "      Low-carbon electricity (% electricity)  \\\n",
       "2619                               44.365555   \n",
       "2620                               38.699688   \n",
       "2621                               37.024296   \n",
       "2622                               34.813500   \n",
       "2623                               35.079216   \n",
       "2624                               33.677803   \n",
       "2625                               37.405983   \n",
       "2626                               32.930458   \n",
       "2627                               35.259820   \n",
       "2628                               34.130726   \n",
       "2629                               28.052551   \n",
       "2630                               29.061190   \n",
       "2631                               28.896818   \n",
       "2632                               26.820840   \n",
       "2633                               26.122978   \n",
       "2634                               26.198277   \n",
       "2635                               24.642149   \n",
       "2636                               24.740412   \n",
       "2637                               23.782322   \n",
       "2638                               21.474360   \n",
       "2639                               22.648321   \n",
       "\n",
       "      Primary energy consumption per capita (kWh/person)  \\\n",
       "2619                                          3945.0947    \n",
       "2620                                          3776.7449    \n",
       "2621                                          3717.3660    \n",
       "2622                                          3758.5122    \n",
       "2623                                          3771.7970    \n",
       "2624                                          3713.3245    \n",
       "2625                                          3471.6638    \n",
       "2626                                          3535.2363    \n",
       "2627                                          3587.5803    \n",
       "2628                                          3563.5925    \n",
       "2629                                          3601.5786    \n",
       "2630                                          3608.6260    \n",
       "2631                                          3668.3667    \n",
       "2632                                          3865.7610    \n",
       "2633                                          4002.7449    \n",
       "2634                                          4314.0645    \n",
       "2635                                          4629.1177    \n",
       "2636                                          4989.8896    \n",
       "2637                                          5040.6440    \n",
       "2638                                          5104.3910    \n",
       "2639                                          4565.3384    \n",
       "\n",
       "      Energy intensity level of primary energy (MJ/$2017 PPP GDP)  \\\n",
       "2619                                               4.72             \n",
       "2620                                               4.36             \n",
       "2621                                               4.26             \n",
       "2622                                               4.06             \n",
       "2623                                               3.78             \n",
       "2624                                               3.70             \n",
       "2625                                               3.49             \n",
       "2626                                               3.33             \n",
       "2627                                               3.35             \n",
       "2628                                               3.22             \n",
       "2629                                               3.14             \n",
       "2630                                               3.06             \n",
       "2631                                               2.99             \n",
       "2632                                               2.89             \n",
       "2633                                               2.90             \n",
       "2634                                               2.96             \n",
       "2635                                               2.93             \n",
       "2636                                               2.89             \n",
       "2637                                               2.81             \n",
       "2638                                               2.68             \n",
       "2639                                                NaN             \n",
       "\n",
       "      Value_co2_emissions_kt_by_country  \\\n",
       "2619                        72100.00000   \n",
       "2620                        70480.00000   \n",
       "2621                        71569.99969   \n",
       "2622                        73629.99725   \n",
       "2623                        75139.99939   \n",
       "2624                        76669.99817   \n",
       "2625                        69470.00122   \n",
       "2626                        73220.00122   \n",
       "2627                        75150.00153   \n",
       "2628                        76300.00305   \n",
       "2629                        81930.00031   \n",
       "2630                        82629.99725   \n",
       "2631                        86180.00031   \n",
       "2632                        95500.00000   \n",
       "2633                       101819.99970   \n",
       "2634                       111010.00210   \n",
       "2635                       121959.99910   \n",
       "2636                       133500.00000   \n",
       "2637                       138570.00730   \n",
       "2638                       145419.99820   \n",
       "2639                                NaN   \n",
       "\n",
       "      Renewables (% equivalent primary energy)  gdp_growth  gdp_per_capita  \\\n",
       "2619                                 18.595215    4.382505     1072.801752   \n",
       "2620                                 16.949202    3.049232      990.565991   \n",
       "2621                                 16.691975    3.716255     1036.158331   \n",
       "2622                                 16.424408    5.086911     1048.008205   \n",
       "2623                                 16.852709    6.569229     1121.490006   \n",
       "2624                                 16.317411    4.942505     1244.348741   \n",
       "2625                                 18.684961    5.316417     1452.438089   \n",
       "2626                                 16.430105    6.519292     1744.639979   \n",
       "2627                                 17.313362    4.344487     1998.026920   \n",
       "2628                                 16.679699    1.448323     1904.196388   \n",
       "2629                                 14.187132    7.334500     2217.472153   \n",
       "2630                                 15.432299    3.858233     2450.735694   \n",
       "2631                                 15.557659    6.896952     2694.305109   \n",
       "2632                                 13.847136    6.750531     2871.429701   \n",
       "2633                                 13.009114    6.347987     2959.645435   \n",
       "2634                                 12.500741    6.348310     3001.043182   \n",
       "2635                                 11.975790    7.149457     3073.654686   \n",
       "2636                                 11.504091    6.930988     3123.245642   \n",
       "2637                                 11.201896    6.341486     3252.110274   \n",
       "2638                                 10.227248    6.118526     3485.340844   \n",
       "2639                                 11.044730   -9.573030     3298.829586   \n",
       "\n",
       "     Density\\n(P/Km2) Land Area(Km2)   Latitude   Longitude  \n",
       "2619              368       3,00,000  12.879721  121.774017  \n",
       "2620              368       3,00,000  12.879721  121.774017  \n",
       "2621              368       3,00,000  12.879721  121.774017  \n",
       "2622              368       3,00,000  12.879721  121.774017  \n",
       "2623              368       3,00,000  12.879721  121.774017  \n",
       "2624              368       3,00,000  12.879721  121.774017  \n",
       "2625              368       3,00,000  12.879721  121.774017  \n",
       "2626              368       3,00,000  12.879721  121.774017  \n",
       "2627              368       3,00,000  12.879721  121.774017  \n",
       "2628              368       3,00,000  12.879721  121.774017  \n",
       "2629              368       3,00,000  12.879721  121.774017  \n",
       "2630              368       3,00,000  12.879721  121.774017  \n",
       "2631              368       3,00,000  12.879721  121.774017  \n",
       "2632              368       3,00,000  12.879721  121.774017  \n",
       "2633              368       3,00,000  12.879721  121.774017  \n",
       "2634              368       3,00,000  12.879721  121.774017  \n",
       "2635              368       3,00,000  12.879721  121.774017  \n",
       "2636              368       3,00,000  12.879721  121.774017  \n",
       "2637              368       3,00,000  12.879721  121.774017  \n",
       "2638              368       3,00,000  12.879721  121.774017  \n",
       "2639              368       3,00,000  12.879721  121.774017  "
      ]
     },
     "execution_count": 60,
     "metadata": {},
     "output_type": "execute_result"
    }
   ],
   "source": [
    "data[data['Entity']=='Philippines']"
   ]
  },
  {
   "cell_type": "markdown",
   "metadata": {},
   "source": [
    "Data Classification"
   ]
  },
  {
   "cell_type": "markdown",
   "metadata": {},
   "source": [
    "The analysis will focus on Sout East Asia, a region that consist of :\n",
    "<ol>\n",
    "<li>Brunei</li>\n",
    "<li>Cambodia</li>\n",
    "<li>Indonesia</li>\n",
    "<li>Laos</li>\n",
    "<li>Malaysia</li>\n",
    "<li>Myanmar</li>\n",
    "<li>Philippines</li>\n",
    "<li>Singapore</li>\n",
    "<li>Thailand</li>\n",
    "<li>Vietnam</li>\n",
    "</ol>\n",
    "However, data for several countries is not available, hence being excluded. The following is the list of available countries for the region.\n",
    "<ol>\n",
    "<li>Cambodia</li>\n",
    "<li>Indonesia</li>\n",
    "<li>Malaysia</li>\n",
    "<li>Myanmar</li>\n",
    "<li>Philippines</li>\n",
    "<li>Singapore</li>\n",
    "<li>Thailand</li>\n",
    "</ol>\n"
   ]
  },
  {
   "cell_type": "code",
   "execution_count": 61,
   "metadata": {},
   "outputs": [],
   "source": [
    "sea = ['Cambodia','Indonesia','Malaysia','Myanmar','Philippines','Singapore','Thailand']"
   ]
  },
  {
   "cell_type": "code",
   "execution_count": 68,
   "metadata": {},
   "outputs": [
    {
     "data": {
      "text/html": [
       "<div>\n",
       "<style scoped>\n",
       "    .dataframe tbody tr th:only-of-type {\n",
       "        vertical-align: middle;\n",
       "    }\n",
       "\n",
       "    .dataframe tbody tr th {\n",
       "        vertical-align: top;\n",
       "    }\n",
       "\n",
       "    .dataframe thead th {\n",
       "        text-align: right;\n",
       "    }\n",
       "</style>\n",
       "<table border=\"1\" class=\"dataframe\">\n",
       "  <thead>\n",
       "    <tr style=\"text-align: right;\">\n",
       "      <th></th>\n",
       "      <th>Entity</th>\n",
       "      <th>Year</th>\n",
       "      <th>Access to electricity (% of population)</th>\n",
       "      <th>Access to clean fuels for cooking</th>\n",
       "      <th>Renewable-electricity-generating-capacity-per-capita</th>\n",
       "      <th>Financial flows to developing countries (US $)</th>\n",
       "      <th>Renewable energy share in the total final energy consumption (%)</th>\n",
       "      <th>Electricity from fossil fuels (TWh)</th>\n",
       "      <th>Electricity from nuclear (TWh)</th>\n",
       "      <th>Electricity from renewables (TWh)</th>\n",
       "      <th>Low-carbon electricity (% electricity)</th>\n",
       "      <th>Primary energy consumption per capita (kWh/person)</th>\n",
       "      <th>Energy intensity level of primary energy (MJ/$2017 PPP GDP)</th>\n",
       "      <th>Value_co2_emissions_kt_by_country</th>\n",
       "      <th>Renewables (% equivalent primary energy)</th>\n",
       "      <th>gdp_growth</th>\n",
       "      <th>gdp_per_capita</th>\n",
       "      <th>Density\\n(P/Km2)</th>\n",
       "      <th>Land Area(Km2)</th>\n",
       "      <th>Latitude</th>\n",
       "      <th>Longitude</th>\n",
       "    </tr>\n",
       "  </thead>\n",
       "  <tbody>\n",
       "    <tr>\n",
       "      <th>567</th>\n",
       "      <td>Cambodia</td>\n",
       "      <td>2000</td>\n",
       "      <td>16.600000</td>\n",
       "      <td>3.6</td>\n",
       "      <td>0.83</td>\n",
       "      <td>NaN</td>\n",
       "      <td>81.58</td>\n",
       "      <td>0.42</td>\n",
       "      <td>0.0</td>\n",
       "      <td>0.05</td>\n",
       "      <td>10.638298</td>\n",
       "      <td>739.45550</td>\n",
       "      <td>7.91</td>\n",
       "      <td>1960.000000</td>\n",
       "      <td>NaN</td>\n",
       "      <td>9.993580</td>\n",
       "      <td>300.613679</td>\n",
       "      <td>95</td>\n",
       "      <td>1,81,035</td>\n",
       "      <td>12.565679</td>\n",
       "      <td>104.990963</td>\n",
       "    </tr>\n",
       "    <tr>\n",
       "      <th>568</th>\n",
       "      <td>Cambodia</td>\n",
       "      <td>2001</td>\n",
       "      <td>14.624778</td>\n",
       "      <td>4.1</td>\n",
       "      <td>0.82</td>\n",
       "      <td>NaN</td>\n",
       "      <td>80.51</td>\n",
       "      <td>0.48</td>\n",
       "      <td>0.0</td>\n",
       "      <td>0.03</td>\n",
       "      <td>5.882353</td>\n",
       "      <td>769.40970</td>\n",
       "      <td>7.51</td>\n",
       "      <td>2150.000000</td>\n",
       "      <td>NaN</td>\n",
       "      <td>8.148386</td>\n",
       "      <td>321.150224</td>\n",
       "      <td>95</td>\n",
       "      <td>1,81,035</td>\n",
       "      <td>12.565679</td>\n",
       "      <td>104.990963</td>\n",
       "    </tr>\n",
       "    <tr>\n",
       "      <th>569</th>\n",
       "      <td>Cambodia</td>\n",
       "      <td>2002</td>\n",
       "      <td>18.187100</td>\n",
       "      <td>4.7</td>\n",
       "      <td>0.97</td>\n",
       "      <td>NaN</td>\n",
       "      <td>80.97</td>\n",
       "      <td>0.66</td>\n",
       "      <td>0.0</td>\n",
       "      <td>0.03</td>\n",
       "      <td>4.347826</td>\n",
       "      <td>754.14470</td>\n",
       "      <td>7.05</td>\n",
       "      <td>2210.000038</td>\n",
       "      <td>NaN</td>\n",
       "      <td>6.578940</td>\n",
       "      <td>338.987477</td>\n",
       "      <td>95</td>\n",
       "      <td>1,81,035</td>\n",
       "      <td>12.565679</td>\n",
       "      <td>104.990963</td>\n",
       "    </tr>\n",
       "    <tr>\n",
       "      <th>570</th>\n",
       "      <td>Cambodia</td>\n",
       "      <td>2003</td>\n",
       "      <td>19.300000</td>\n",
       "      <td>5.3</td>\n",
       "      <td>0.96</td>\n",
       "      <td>4630000.0</td>\n",
       "      <td>79.92</td>\n",
       "      <td>0.67</td>\n",
       "      <td>0.0</td>\n",
       "      <td>0.04</td>\n",
       "      <td>5.633803</td>\n",
       "      <td>803.81635</td>\n",
       "      <td>6.69</td>\n",
       "      <td>2380.000114</td>\n",
       "      <td>NaN</td>\n",
       "      <td>8.505896</td>\n",
       "      <td>362.335482</td>\n",
       "      <td>95</td>\n",
       "      <td>1,81,035</td>\n",
       "      <td>12.565679</td>\n",
       "      <td>104.990963</td>\n",
       "    </tr>\n",
       "    <tr>\n",
       "      <th>571</th>\n",
       "      <td>Cambodia</td>\n",
       "      <td>2004</td>\n",
       "      <td>25.298384</td>\n",
       "      <td>5.9</td>\n",
       "      <td>1.02</td>\n",
       "      <td>409150000.0</td>\n",
       "      <td>80.69</td>\n",
       "      <td>0.73</td>\n",
       "      <td>0.0</td>\n",
       "      <td>0.03</td>\n",
       "      <td>3.947368</td>\n",
       "      <td>813.56445</td>\n",
       "      <td>6.23</td>\n",
       "      <td>2380.000114</td>\n",
       "      <td>NaN</td>\n",
       "      <td>10.340529</td>\n",
       "      <td>408.513639</td>\n",
       "      <td>95</td>\n",
       "      <td>1,81,035</td>\n",
       "      <td>12.565679</td>\n",
       "      <td>104.990963</td>\n",
       "    </tr>\n",
       "  </tbody>\n",
       "</table>\n",
       "</div>"
      ],
      "text/plain": [
       "       Entity  Year  Access to electricity (% of population)  \\\n",
       "567  Cambodia  2000                                16.600000   \n",
       "568  Cambodia  2001                                14.624778   \n",
       "569  Cambodia  2002                                18.187100   \n",
       "570  Cambodia  2003                                19.300000   \n",
       "571  Cambodia  2004                                25.298384   \n",
       "\n",
       "     Access to clean fuels for cooking  \\\n",
       "567                                3.6   \n",
       "568                                4.1   \n",
       "569                                4.7   \n",
       "570                                5.3   \n",
       "571                                5.9   \n",
       "\n",
       "     Renewable-electricity-generating-capacity-per-capita  \\\n",
       "567                                               0.83      \n",
       "568                                               0.82      \n",
       "569                                               0.97      \n",
       "570                                               0.96      \n",
       "571                                               1.02      \n",
       "\n",
       "     Financial flows to developing countries (US $)  \\\n",
       "567                                             NaN   \n",
       "568                                             NaN   \n",
       "569                                             NaN   \n",
       "570                                       4630000.0   \n",
       "571                                     409150000.0   \n",
       "\n",
       "     Renewable energy share in the total final energy consumption (%)  \\\n",
       "567                                              81.58                  \n",
       "568                                              80.51                  \n",
       "569                                              80.97                  \n",
       "570                                              79.92                  \n",
       "571                                              80.69                  \n",
       "\n",
       "     Electricity from fossil fuels (TWh)  Electricity from nuclear (TWh)  \\\n",
       "567                                 0.42                             0.0   \n",
       "568                                 0.48                             0.0   \n",
       "569                                 0.66                             0.0   \n",
       "570                                 0.67                             0.0   \n",
       "571                                 0.73                             0.0   \n",
       "\n",
       "     Electricity from renewables (TWh)  \\\n",
       "567                               0.05   \n",
       "568                               0.03   \n",
       "569                               0.03   \n",
       "570                               0.04   \n",
       "571                               0.03   \n",
       "\n",
       "     Low-carbon electricity (% electricity)  \\\n",
       "567                               10.638298   \n",
       "568                                5.882353   \n",
       "569                                4.347826   \n",
       "570                                5.633803   \n",
       "571                                3.947368   \n",
       "\n",
       "     Primary energy consumption per capita (kWh/person)  \\\n",
       "567                                          739.45550    \n",
       "568                                          769.40970    \n",
       "569                                          754.14470    \n",
       "570                                          803.81635    \n",
       "571                                          813.56445    \n",
       "\n",
       "     Energy intensity level of primary energy (MJ/$2017 PPP GDP)  \\\n",
       "567                                               7.91             \n",
       "568                                               7.51             \n",
       "569                                               7.05             \n",
       "570                                               6.69             \n",
       "571                                               6.23             \n",
       "\n",
       "     Value_co2_emissions_kt_by_country  \\\n",
       "567                        1960.000000   \n",
       "568                        2150.000000   \n",
       "569                        2210.000038   \n",
       "570                        2380.000114   \n",
       "571                        2380.000114   \n",
       "\n",
       "     Renewables (% equivalent primary energy)  gdp_growth  gdp_per_capita  \\\n",
       "567                                       NaN    9.993580      300.613679   \n",
       "568                                       NaN    8.148386      321.150224   \n",
       "569                                       NaN    6.578940      338.987477   \n",
       "570                                       NaN    8.505896      362.335482   \n",
       "571                                       NaN   10.340529      408.513639   \n",
       "\n",
       "    Density\\n(P/Km2) Land Area(Km2)   Latitude   Longitude  \n",
       "567               95       1,81,035  12.565679  104.990963  \n",
       "568               95       1,81,035  12.565679  104.990963  \n",
       "569               95       1,81,035  12.565679  104.990963  \n",
       "570               95       1,81,035  12.565679  104.990963  \n",
       "571               95       1,81,035  12.565679  104.990963  "
      ]
     },
     "execution_count": 68,
     "metadata": {},
     "output_type": "execute_result"
    }
   ],
   "source": [
    "data_sea = data[data['Entity'].isin(sea)]\n",
    "data_sea.head()"
   ]
  },
  {
   "cell_type": "code",
   "execution_count": 69,
   "metadata": {},
   "outputs": [
    {
     "data": {
      "text/plain": [
       "(147, 21)"
      ]
     },
     "execution_count": 69,
     "metadata": {},
     "output_type": "execute_result"
    }
   ],
   "source": [
    "data_sea.shape"
   ]
  },
  {
   "cell_type": "code",
   "execution_count": 67,
   "metadata": {},
   "outputs": [
    {
     "data": {
      "text/html": [
       "<div>\n",
       "<style scoped>\n",
       "    .dataframe tbody tr th:only-of-type {\n",
       "        vertical-align: middle;\n",
       "    }\n",
       "\n",
       "    .dataframe tbody tr th {\n",
       "        vertical-align: top;\n",
       "    }\n",
       "\n",
       "    .dataframe thead th {\n",
       "        text-align: right;\n",
       "    }\n",
       "</style>\n",
       "<table border=\"1\" class=\"dataframe\">\n",
       "  <thead>\n",
       "    <tr style=\"text-align: right;\">\n",
       "      <th></th>\n",
       "      <th>Null Values</th>\n",
       "    </tr>\n",
       "  </thead>\n",
       "  <tbody>\n",
       "    <tr>\n",
       "      <th>Financial flows to developing countries (US $)</th>\n",
       "      <td>45</td>\n",
       "    </tr>\n",
       "    <tr>\n",
       "      <th>Electricity from nuclear (TWh)</th>\n",
       "      <td>42</td>\n",
       "    </tr>\n",
       "    <tr>\n",
       "      <th>Renewables (% equivalent primary energy)</th>\n",
       "      <td>42</td>\n",
       "    </tr>\n",
       "    <tr>\n",
       "      <th>Energy intensity level of primary energy (MJ/$2017 PPP GDP)</th>\n",
       "      <td>7</td>\n",
       "    </tr>\n",
       "    <tr>\n",
       "      <th>Renewable energy share in the total final energy consumption (%)</th>\n",
       "      <td>7</td>\n",
       "    </tr>\n",
       "    <tr>\n",
       "      <th>Value_co2_emissions_kt_by_country</th>\n",
       "      <td>7</td>\n",
       "    </tr>\n",
       "    <tr>\n",
       "      <th>Entity</th>\n",
       "      <td>0</td>\n",
       "    </tr>\n",
       "    <tr>\n",
       "      <th>Latitude</th>\n",
       "      <td>0</td>\n",
       "    </tr>\n",
       "    <tr>\n",
       "      <th>Land Area(Km2)</th>\n",
       "      <td>0</td>\n",
       "    </tr>\n",
       "    <tr>\n",
       "      <th>Density\\n(P/Km2)</th>\n",
       "      <td>0</td>\n",
       "    </tr>\n",
       "    <tr>\n",
       "      <th>gdp_per_capita</th>\n",
       "      <td>0</td>\n",
       "    </tr>\n",
       "    <tr>\n",
       "      <th>gdp_growth</th>\n",
       "      <td>0</td>\n",
       "    </tr>\n",
       "    <tr>\n",
       "      <th>Low-carbon electricity (% electricity)</th>\n",
       "      <td>0</td>\n",
       "    </tr>\n",
       "    <tr>\n",
       "      <th>Primary energy consumption per capita (kWh/person)</th>\n",
       "      <td>0</td>\n",
       "    </tr>\n",
       "    <tr>\n",
       "      <th>Year</th>\n",
       "      <td>0</td>\n",
       "    </tr>\n",
       "    <tr>\n",
       "      <th>Electricity from renewables (TWh)</th>\n",
       "      <td>0</td>\n",
       "    </tr>\n",
       "    <tr>\n",
       "      <th>Electricity from fossil fuels (TWh)</th>\n",
       "      <td>0</td>\n",
       "    </tr>\n",
       "    <tr>\n",
       "      <th>Renewable-electricity-generating-capacity-per-capita</th>\n",
       "      <td>0</td>\n",
       "    </tr>\n",
       "    <tr>\n",
       "      <th>Access to clean fuels for cooking</th>\n",
       "      <td>0</td>\n",
       "    </tr>\n",
       "    <tr>\n",
       "      <th>Access to electricity (% of population)</th>\n",
       "      <td>0</td>\n",
       "    </tr>\n",
       "    <tr>\n",
       "      <th>Longitude</th>\n",
       "      <td>0</td>\n",
       "    </tr>\n",
       "  </tbody>\n",
       "</table>\n",
       "</div>"
      ],
      "text/plain": [
       "                                                    Null Values\n",
       "Financial flows to developing countries (US $)               45\n",
       "Electricity from nuclear (TWh)                               42\n",
       "Renewables (% equivalent primary energy)                     42\n",
       "Energy intensity level of primary energy (MJ/$2...            7\n",
       "Renewable energy share in the total final energ...            7\n",
       "Value_co2_emissions_kt_by_country                             7\n",
       "Entity                                                        0\n",
       "Latitude                                                      0\n",
       "Land Area(Km2)                                                0\n",
       "Density\\n(P/Km2)                                              0\n",
       "gdp_per_capita                                                0\n",
       "gdp_growth                                                    0\n",
       "Low-carbon electricity (% electricity)                        0\n",
       "Primary energy consumption per capita (kWh/person)            0\n",
       "Year                                                          0\n",
       "Electricity from renewables (TWh)                             0\n",
       "Electricity from fossil fuels (TWh)                           0\n",
       "Renewable-electricity-generating-capacity-per-c...            0\n",
       "Access to clean fuels for cooking                             0\n",
       "Access to electricity (% of population)                       0\n",
       "Longitude                                                     0"
      ]
     },
     "execution_count": 67,
     "metadata": {},
     "output_type": "execute_result"
    }
   ],
   "source": [
    "sea_null = pd.DataFrame( data_sea.isnull().sum().sort_values(ascending=False)[:25])\n",
    "sea_null = sea_null.rename(columns = {0 : 'Null Values'})\n",
    "sea_null\n"
   ]
  },
  {
   "cell_type": "code",
   "execution_count": 70,
   "metadata": {},
   "outputs": [
    {
     "data": {
      "application/vnd.plotly.v1+json": {
       "config": {
        "plotlyServerURL": "https://plot.ly"
       },
       "data": [
        {
         "text": [
          45,
          42,
          42,
          7,
          7,
          7,
          0,
          0,
          0,
          0,
          0,
          0,
          0,
          0,
          0,
          0,
          0,
          0,
          0,
          0,
          0
         ],
         "textposition": "auto",
         "type": "bar",
         "x": [
          "Financial flows to developing countries (US $)",
          "Electricity from nuclear (TWh)",
          "Renewables (% equivalent primary energy)",
          "Energy intensity level of primary energy (MJ/$2017 PPP GDP)",
          "Renewable energy share in the total final energy consumption (%)",
          "Value_co2_emissions_kt_by_country",
          "Entity",
          "Latitude",
          "Land Area(Km2)",
          "Density\\n(P/Km2)",
          "gdp_per_capita",
          "gdp_growth",
          "Low-carbon electricity (% electricity)",
          "Primary energy consumption per capita (kWh/person)",
          "Year",
          "Electricity from renewables (TWh)",
          "Electricity from fossil fuels (TWh)",
          "Renewable-electricity-generating-capacity-per-capita",
          "Access to clean fuels for cooking",
          "Access to electricity (% of population)",
          "Longitude"
         ],
         "y": [
          45,
          42,
          42,
          7,
          7,
          7,
          0,
          0,
          0,
          0,
          0,
          0,
          0,
          0,
          0,
          0,
          0,
          0,
          0,
          0,
          0
         ]
        }
       ],
       "layout": {
        "template": {
         "data": {
          "bar": [
           {
            "error_x": {
             "color": "#f2f5fa"
            },
            "error_y": {
             "color": "#f2f5fa"
            },
            "marker": {
             "line": {
              "color": "rgb(17,17,17)",
              "width": 0.5
             },
             "pattern": {
              "fillmode": "overlay",
              "size": 10,
              "solidity": 0.2
             }
            },
            "type": "bar"
           }
          ],
          "barpolar": [
           {
            "marker": {
             "line": {
              "color": "rgb(17,17,17)",
              "width": 0.5
             },
             "pattern": {
              "fillmode": "overlay",
              "size": 10,
              "solidity": 0.2
             }
            },
            "type": "barpolar"
           }
          ],
          "carpet": [
           {
            "aaxis": {
             "endlinecolor": "#A2B1C6",
             "gridcolor": "#506784",
             "linecolor": "#506784",
             "minorgridcolor": "#506784",
             "startlinecolor": "#A2B1C6"
            },
            "baxis": {
             "endlinecolor": "#A2B1C6",
             "gridcolor": "#506784",
             "linecolor": "#506784",
             "minorgridcolor": "#506784",
             "startlinecolor": "#A2B1C6"
            },
            "type": "carpet"
           }
          ],
          "choropleth": [
           {
            "colorbar": {
             "outlinewidth": 0,
             "ticks": ""
            },
            "type": "choropleth"
           }
          ],
          "contour": [
           {
            "colorbar": {
             "outlinewidth": 0,
             "ticks": ""
            },
            "colorscale": [
             [
              0,
              "#0d0887"
             ],
             [
              0.1111111111111111,
              "#46039f"
             ],
             [
              0.2222222222222222,
              "#7201a8"
             ],
             [
              0.3333333333333333,
              "#9c179e"
             ],
             [
              0.4444444444444444,
              "#bd3786"
             ],
             [
              0.5555555555555556,
              "#d8576b"
             ],
             [
              0.6666666666666666,
              "#ed7953"
             ],
             [
              0.7777777777777778,
              "#fb9f3a"
             ],
             [
              0.8888888888888888,
              "#fdca26"
             ],
             [
              1,
              "#f0f921"
             ]
            ],
            "type": "contour"
           }
          ],
          "contourcarpet": [
           {
            "colorbar": {
             "outlinewidth": 0,
             "ticks": ""
            },
            "type": "contourcarpet"
           }
          ],
          "heatmap": [
           {
            "colorbar": {
             "outlinewidth": 0,
             "ticks": ""
            },
            "colorscale": [
             [
              0,
              "#0d0887"
             ],
             [
              0.1111111111111111,
              "#46039f"
             ],
             [
              0.2222222222222222,
              "#7201a8"
             ],
             [
              0.3333333333333333,
              "#9c179e"
             ],
             [
              0.4444444444444444,
              "#bd3786"
             ],
             [
              0.5555555555555556,
              "#d8576b"
             ],
             [
              0.6666666666666666,
              "#ed7953"
             ],
             [
              0.7777777777777778,
              "#fb9f3a"
             ],
             [
              0.8888888888888888,
              "#fdca26"
             ],
             [
              1,
              "#f0f921"
             ]
            ],
            "type": "heatmap"
           }
          ],
          "heatmapgl": [
           {
            "colorbar": {
             "outlinewidth": 0,
             "ticks": ""
            },
            "colorscale": [
             [
              0,
              "#0d0887"
             ],
             [
              0.1111111111111111,
              "#46039f"
             ],
             [
              0.2222222222222222,
              "#7201a8"
             ],
             [
              0.3333333333333333,
              "#9c179e"
             ],
             [
              0.4444444444444444,
              "#bd3786"
             ],
             [
              0.5555555555555556,
              "#d8576b"
             ],
             [
              0.6666666666666666,
              "#ed7953"
             ],
             [
              0.7777777777777778,
              "#fb9f3a"
             ],
             [
              0.8888888888888888,
              "#fdca26"
             ],
             [
              1,
              "#f0f921"
             ]
            ],
            "type": "heatmapgl"
           }
          ],
          "histogram": [
           {
            "marker": {
             "pattern": {
              "fillmode": "overlay",
              "size": 10,
              "solidity": 0.2
             }
            },
            "type": "histogram"
           }
          ],
          "histogram2d": [
           {
            "colorbar": {
             "outlinewidth": 0,
             "ticks": ""
            },
            "colorscale": [
             [
              0,
              "#0d0887"
             ],
             [
              0.1111111111111111,
              "#46039f"
             ],
             [
              0.2222222222222222,
              "#7201a8"
             ],
             [
              0.3333333333333333,
              "#9c179e"
             ],
             [
              0.4444444444444444,
              "#bd3786"
             ],
             [
              0.5555555555555556,
              "#d8576b"
             ],
             [
              0.6666666666666666,
              "#ed7953"
             ],
             [
              0.7777777777777778,
              "#fb9f3a"
             ],
             [
              0.8888888888888888,
              "#fdca26"
             ],
             [
              1,
              "#f0f921"
             ]
            ],
            "type": "histogram2d"
           }
          ],
          "histogram2dcontour": [
           {
            "colorbar": {
             "outlinewidth": 0,
             "ticks": ""
            },
            "colorscale": [
             [
              0,
              "#0d0887"
             ],
             [
              0.1111111111111111,
              "#46039f"
             ],
             [
              0.2222222222222222,
              "#7201a8"
             ],
             [
              0.3333333333333333,
              "#9c179e"
             ],
             [
              0.4444444444444444,
              "#bd3786"
             ],
             [
              0.5555555555555556,
              "#d8576b"
             ],
             [
              0.6666666666666666,
              "#ed7953"
             ],
             [
              0.7777777777777778,
              "#fb9f3a"
             ],
             [
              0.8888888888888888,
              "#fdca26"
             ],
             [
              1,
              "#f0f921"
             ]
            ],
            "type": "histogram2dcontour"
           }
          ],
          "mesh3d": [
           {
            "colorbar": {
             "outlinewidth": 0,
             "ticks": ""
            },
            "type": "mesh3d"
           }
          ],
          "parcoords": [
           {
            "line": {
             "colorbar": {
              "outlinewidth": 0,
              "ticks": ""
             }
            },
            "type": "parcoords"
           }
          ],
          "pie": [
           {
            "automargin": true,
            "type": "pie"
           }
          ],
          "scatter": [
           {
            "marker": {
             "line": {
              "color": "#283442"
             }
            },
            "type": "scatter"
           }
          ],
          "scatter3d": [
           {
            "line": {
             "colorbar": {
              "outlinewidth": 0,
              "ticks": ""
             }
            },
            "marker": {
             "colorbar": {
              "outlinewidth": 0,
              "ticks": ""
             }
            },
            "type": "scatter3d"
           }
          ],
          "scattercarpet": [
           {
            "marker": {
             "colorbar": {
              "outlinewidth": 0,
              "ticks": ""
             }
            },
            "type": "scattercarpet"
           }
          ],
          "scattergeo": [
           {
            "marker": {
             "colorbar": {
              "outlinewidth": 0,
              "ticks": ""
             }
            },
            "type": "scattergeo"
           }
          ],
          "scattergl": [
           {
            "marker": {
             "line": {
              "color": "#283442"
             }
            },
            "type": "scattergl"
           }
          ],
          "scattermapbox": [
           {
            "marker": {
             "colorbar": {
              "outlinewidth": 0,
              "ticks": ""
             }
            },
            "type": "scattermapbox"
           }
          ],
          "scatterpolar": [
           {
            "marker": {
             "colorbar": {
              "outlinewidth": 0,
              "ticks": ""
             }
            },
            "type": "scatterpolar"
           }
          ],
          "scatterpolargl": [
           {
            "marker": {
             "colorbar": {
              "outlinewidth": 0,
              "ticks": ""
             }
            },
            "type": "scatterpolargl"
           }
          ],
          "scatterternary": [
           {
            "marker": {
             "colorbar": {
              "outlinewidth": 0,
              "ticks": ""
             }
            },
            "type": "scatterternary"
           }
          ],
          "surface": [
           {
            "colorbar": {
             "outlinewidth": 0,
             "ticks": ""
            },
            "colorscale": [
             [
              0,
              "#0d0887"
             ],
             [
              0.1111111111111111,
              "#46039f"
             ],
             [
              0.2222222222222222,
              "#7201a8"
             ],
             [
              0.3333333333333333,
              "#9c179e"
             ],
             [
              0.4444444444444444,
              "#bd3786"
             ],
             [
              0.5555555555555556,
              "#d8576b"
             ],
             [
              0.6666666666666666,
              "#ed7953"
             ],
             [
              0.7777777777777778,
              "#fb9f3a"
             ],
             [
              0.8888888888888888,
              "#fdca26"
             ],
             [
              1,
              "#f0f921"
             ]
            ],
            "type": "surface"
           }
          ],
          "table": [
           {
            "cells": {
             "fill": {
              "color": "#506784"
             },
             "line": {
              "color": "rgb(17,17,17)"
             }
            },
            "header": {
             "fill": {
              "color": "#2a3f5f"
             },
             "line": {
              "color": "rgb(17,17,17)"
             }
            },
            "type": "table"
           }
          ]
         },
         "layout": {
          "annotationdefaults": {
           "arrowcolor": "#f2f5fa",
           "arrowhead": 0,
           "arrowwidth": 1
          },
          "autotypenumbers": "strict",
          "coloraxis": {
           "colorbar": {
            "outlinewidth": 0,
            "ticks": ""
           }
          },
          "colorscale": {
           "diverging": [
            [
             0,
             "#8e0152"
            ],
            [
             0.1,
             "#c51b7d"
            ],
            [
             0.2,
             "#de77ae"
            ],
            [
             0.3,
             "#f1b6da"
            ],
            [
             0.4,
             "#fde0ef"
            ],
            [
             0.5,
             "#f7f7f7"
            ],
            [
             0.6,
             "#e6f5d0"
            ],
            [
             0.7,
             "#b8e186"
            ],
            [
             0.8,
             "#7fbc41"
            ],
            [
             0.9,
             "#4d9221"
            ],
            [
             1,
             "#276419"
            ]
           ],
           "sequential": [
            [
             0,
             "#0d0887"
            ],
            [
             0.1111111111111111,
             "#46039f"
            ],
            [
             0.2222222222222222,
             "#7201a8"
            ],
            [
             0.3333333333333333,
             "#9c179e"
            ],
            [
             0.4444444444444444,
             "#bd3786"
            ],
            [
             0.5555555555555556,
             "#d8576b"
            ],
            [
             0.6666666666666666,
             "#ed7953"
            ],
            [
             0.7777777777777778,
             "#fb9f3a"
            ],
            [
             0.8888888888888888,
             "#fdca26"
            ],
            [
             1,
             "#f0f921"
            ]
           ],
           "sequentialminus": [
            [
             0,
             "#0d0887"
            ],
            [
             0.1111111111111111,
             "#46039f"
            ],
            [
             0.2222222222222222,
             "#7201a8"
            ],
            [
             0.3333333333333333,
             "#9c179e"
            ],
            [
             0.4444444444444444,
             "#bd3786"
            ],
            [
             0.5555555555555556,
             "#d8576b"
            ],
            [
             0.6666666666666666,
             "#ed7953"
            ],
            [
             0.7777777777777778,
             "#fb9f3a"
            ],
            [
             0.8888888888888888,
             "#fdca26"
            ],
            [
             1,
             "#f0f921"
            ]
           ]
          },
          "colorway": [
           "#636efa",
           "#EF553B",
           "#00cc96",
           "#ab63fa",
           "#FFA15A",
           "#19d3f3",
           "#FF6692",
           "#B6E880",
           "#FF97FF",
           "#FECB52"
          ],
          "font": {
           "color": "#f2f5fa"
          },
          "geo": {
           "bgcolor": "rgb(17,17,17)",
           "lakecolor": "rgb(17,17,17)",
           "landcolor": "rgb(17,17,17)",
           "showlakes": true,
           "showland": true,
           "subunitcolor": "#506784"
          },
          "hoverlabel": {
           "align": "left"
          },
          "hovermode": "closest",
          "mapbox": {
           "style": "dark"
          },
          "paper_bgcolor": "rgb(17,17,17)",
          "plot_bgcolor": "rgb(17,17,17)",
          "polar": {
           "angularaxis": {
            "gridcolor": "#506784",
            "linecolor": "#506784",
            "ticks": ""
           },
           "bgcolor": "rgb(17,17,17)",
           "radialaxis": {
            "gridcolor": "#506784",
            "linecolor": "#506784",
            "ticks": ""
           }
          },
          "scene": {
           "xaxis": {
            "backgroundcolor": "rgb(17,17,17)",
            "gridcolor": "#506784",
            "gridwidth": 2,
            "linecolor": "#506784",
            "showbackground": true,
            "ticks": "",
            "zerolinecolor": "#C8D4E3"
           },
           "yaxis": {
            "backgroundcolor": "rgb(17,17,17)",
            "gridcolor": "#506784",
            "gridwidth": 2,
            "linecolor": "#506784",
            "showbackground": true,
            "ticks": "",
            "zerolinecolor": "#C8D4E3"
           },
           "zaxis": {
            "backgroundcolor": "rgb(17,17,17)",
            "gridcolor": "#506784",
            "gridwidth": 2,
            "linecolor": "#506784",
            "showbackground": true,
            "ticks": "",
            "zerolinecolor": "#C8D4E3"
           }
          },
          "shapedefaults": {
           "line": {
            "color": "#f2f5fa"
           }
          },
          "sliderdefaults": {
           "bgcolor": "#C8D4E3",
           "bordercolor": "rgb(17,17,17)",
           "borderwidth": 1,
           "tickwidth": 0
          },
          "ternary": {
           "aaxis": {
            "gridcolor": "#506784",
            "linecolor": "#506784",
            "ticks": ""
           },
           "baxis": {
            "gridcolor": "#506784",
            "linecolor": "#506784",
            "ticks": ""
           },
           "bgcolor": "rgb(17,17,17)",
           "caxis": {
            "gridcolor": "#506784",
            "linecolor": "#506784",
            "ticks": ""
           }
          },
          "title": {
           "x": 0.05
          },
          "updatemenudefaults": {
           "bgcolor": "#506784",
           "borderwidth": 0
          },
          "xaxis": {
           "automargin": true,
           "gridcolor": "#283442",
           "linecolor": "#506784",
           "ticks": "",
           "title": {
            "standoff": 15
           },
           "zerolinecolor": "#283442",
           "zerolinewidth": 2
          },
          "yaxis": {
           "automargin": true,
           "gridcolor": "#283442",
           "linecolor": "#506784",
           "ticks": "",
           "title": {
            "standoff": 15
           },
           "zerolinecolor": "#283442",
           "zerolinewidth": 2
          }
         }
        },
        "title": {
         "text": "Null Values Count"
        },
        "xaxis": {
         "tickfont": {
          "size": 7
         }
        }
       }
      }
     },
     "metadata": {},
     "output_type": "display_data"
    }
   ],
   "source": [
    "fig_null_data_sea = go.Figure()\n",
    "fig_null_data_sea.add_trace(go.Bar(\n",
    "    x = sea_null.index,\n",
    "    y = sea_null['Null Values'],\n",
    "    text = sea_null['Null Values'],\n",
    "    textposition = 'auto'\n",
    "    \n",
    "))\n",
    "fig_null_data_sea.update_layout(\n",
    "    title = 'Null Values Count',\n",
    "    xaxis_tickfont_size = 7,\n",
    "    template = 'plotly_dark',\n",
    ")"
   ]
  },
  {
   "cell_type": "markdown",
   "metadata": {},
   "source": [
    "### Data Visualisation"
   ]
  },
  {
   "cell_type": "code",
   "execution_count": 71,
   "metadata": {},
   "outputs": [
    {
     "data": {
      "text/html": [
       "<div>\n",
       "<style scoped>\n",
       "    .dataframe tbody tr th:only-of-type {\n",
       "        vertical-align: middle;\n",
       "    }\n",
       "\n",
       "    .dataframe tbody tr th {\n",
       "        vertical-align: top;\n",
       "    }\n",
       "\n",
       "    .dataframe thead th {\n",
       "        text-align: right;\n",
       "    }\n",
       "</style>\n",
       "<table border=\"1\" class=\"dataframe\">\n",
       "  <thead>\n",
       "    <tr style=\"text-align: right;\">\n",
       "      <th></th>\n",
       "      <th>Entity</th>\n",
       "      <th>Year</th>\n",
       "      <th>Access to electricity (% of population)</th>\n",
       "      <th>Access to clean fuels for cooking</th>\n",
       "      <th>Renewable-electricity-generating-capacity-per-capita</th>\n",
       "      <th>Financial flows to developing countries (US $)</th>\n",
       "      <th>Renewable energy share in the total final energy consumption (%)</th>\n",
       "      <th>Electricity from fossil fuels (TWh)</th>\n",
       "      <th>Electricity from nuclear (TWh)</th>\n",
       "      <th>Electricity from renewables (TWh)</th>\n",
       "      <th>Low-carbon electricity (% electricity)</th>\n",
       "      <th>Primary energy consumption per capita (kWh/person)</th>\n",
       "      <th>Energy intensity level of primary energy (MJ/$2017 PPP GDP)</th>\n",
       "      <th>Value_co2_emissions_kt_by_country</th>\n",
       "      <th>Renewables (% equivalent primary energy)</th>\n",
       "      <th>gdp_growth</th>\n",
       "      <th>gdp_per_capita</th>\n",
       "      <th>Density\\n(P/Km2)</th>\n",
       "      <th>Land Area(Km2)</th>\n",
       "      <th>Latitude</th>\n",
       "      <th>Longitude</th>\n",
       "    </tr>\n",
       "  </thead>\n",
       "  <tbody>\n",
       "    <tr>\n",
       "      <th>567</th>\n",
       "      <td>Cambodia</td>\n",
       "      <td>2000</td>\n",
       "      <td>16.600000</td>\n",
       "      <td>3.6</td>\n",
       "      <td>0.83</td>\n",
       "      <td>NaN</td>\n",
       "      <td>81.58</td>\n",
       "      <td>0.42</td>\n",
       "      <td>0.0</td>\n",
       "      <td>0.05</td>\n",
       "      <td>10.638298</td>\n",
       "      <td>739.45550</td>\n",
       "      <td>7.91</td>\n",
       "      <td>1960.000000</td>\n",
       "      <td>NaN</td>\n",
       "      <td>9.993580</td>\n",
       "      <td>300.613679</td>\n",
       "      <td>95</td>\n",
       "      <td>1,81,035</td>\n",
       "      <td>12.565679</td>\n",
       "      <td>104.990963</td>\n",
       "    </tr>\n",
       "    <tr>\n",
       "      <th>568</th>\n",
       "      <td>Cambodia</td>\n",
       "      <td>2001</td>\n",
       "      <td>14.624778</td>\n",
       "      <td>4.1</td>\n",
       "      <td>0.82</td>\n",
       "      <td>NaN</td>\n",
       "      <td>80.51</td>\n",
       "      <td>0.48</td>\n",
       "      <td>0.0</td>\n",
       "      <td>0.03</td>\n",
       "      <td>5.882353</td>\n",
       "      <td>769.40970</td>\n",
       "      <td>7.51</td>\n",
       "      <td>2150.000000</td>\n",
       "      <td>NaN</td>\n",
       "      <td>8.148386</td>\n",
       "      <td>321.150224</td>\n",
       "      <td>95</td>\n",
       "      <td>1,81,035</td>\n",
       "      <td>12.565679</td>\n",
       "      <td>104.990963</td>\n",
       "    </tr>\n",
       "    <tr>\n",
       "      <th>569</th>\n",
       "      <td>Cambodia</td>\n",
       "      <td>2002</td>\n",
       "      <td>18.187100</td>\n",
       "      <td>4.7</td>\n",
       "      <td>0.97</td>\n",
       "      <td>NaN</td>\n",
       "      <td>80.97</td>\n",
       "      <td>0.66</td>\n",
       "      <td>0.0</td>\n",
       "      <td>0.03</td>\n",
       "      <td>4.347826</td>\n",
       "      <td>754.14470</td>\n",
       "      <td>7.05</td>\n",
       "      <td>2210.000038</td>\n",
       "      <td>NaN</td>\n",
       "      <td>6.578940</td>\n",
       "      <td>338.987477</td>\n",
       "      <td>95</td>\n",
       "      <td>1,81,035</td>\n",
       "      <td>12.565679</td>\n",
       "      <td>104.990963</td>\n",
       "    </tr>\n",
       "    <tr>\n",
       "      <th>570</th>\n",
       "      <td>Cambodia</td>\n",
       "      <td>2003</td>\n",
       "      <td>19.300000</td>\n",
       "      <td>5.3</td>\n",
       "      <td>0.96</td>\n",
       "      <td>4630000.0</td>\n",
       "      <td>79.92</td>\n",
       "      <td>0.67</td>\n",
       "      <td>0.0</td>\n",
       "      <td>0.04</td>\n",
       "      <td>5.633803</td>\n",
       "      <td>803.81635</td>\n",
       "      <td>6.69</td>\n",
       "      <td>2380.000114</td>\n",
       "      <td>NaN</td>\n",
       "      <td>8.505896</td>\n",
       "      <td>362.335482</td>\n",
       "      <td>95</td>\n",
       "      <td>1,81,035</td>\n",
       "      <td>12.565679</td>\n",
       "      <td>104.990963</td>\n",
       "    </tr>\n",
       "    <tr>\n",
       "      <th>571</th>\n",
       "      <td>Cambodia</td>\n",
       "      <td>2004</td>\n",
       "      <td>25.298384</td>\n",
       "      <td>5.9</td>\n",
       "      <td>1.02</td>\n",
       "      <td>409150000.0</td>\n",
       "      <td>80.69</td>\n",
       "      <td>0.73</td>\n",
       "      <td>0.0</td>\n",
       "      <td>0.03</td>\n",
       "      <td>3.947368</td>\n",
       "      <td>813.56445</td>\n",
       "      <td>6.23</td>\n",
       "      <td>2380.000114</td>\n",
       "      <td>NaN</td>\n",
       "      <td>10.340529</td>\n",
       "      <td>408.513639</td>\n",
       "      <td>95</td>\n",
       "      <td>1,81,035</td>\n",
       "      <td>12.565679</td>\n",
       "      <td>104.990963</td>\n",
       "    </tr>\n",
       "  </tbody>\n",
       "</table>\n",
       "</div>"
      ],
      "text/plain": [
       "       Entity  Year  Access to electricity (% of population)  \\\n",
       "567  Cambodia  2000                                16.600000   \n",
       "568  Cambodia  2001                                14.624778   \n",
       "569  Cambodia  2002                                18.187100   \n",
       "570  Cambodia  2003                                19.300000   \n",
       "571  Cambodia  2004                                25.298384   \n",
       "\n",
       "     Access to clean fuels for cooking  \\\n",
       "567                                3.6   \n",
       "568                                4.1   \n",
       "569                                4.7   \n",
       "570                                5.3   \n",
       "571                                5.9   \n",
       "\n",
       "     Renewable-electricity-generating-capacity-per-capita  \\\n",
       "567                                               0.83      \n",
       "568                                               0.82      \n",
       "569                                               0.97      \n",
       "570                                               0.96      \n",
       "571                                               1.02      \n",
       "\n",
       "     Financial flows to developing countries (US $)  \\\n",
       "567                                             NaN   \n",
       "568                                             NaN   \n",
       "569                                             NaN   \n",
       "570                                       4630000.0   \n",
       "571                                     409150000.0   \n",
       "\n",
       "     Renewable energy share in the total final energy consumption (%)  \\\n",
       "567                                              81.58                  \n",
       "568                                              80.51                  \n",
       "569                                              80.97                  \n",
       "570                                              79.92                  \n",
       "571                                              80.69                  \n",
       "\n",
       "     Electricity from fossil fuels (TWh)  Electricity from nuclear (TWh)  \\\n",
       "567                                 0.42                             0.0   \n",
       "568                                 0.48                             0.0   \n",
       "569                                 0.66                             0.0   \n",
       "570                                 0.67                             0.0   \n",
       "571                                 0.73                             0.0   \n",
       "\n",
       "     Electricity from renewables (TWh)  \\\n",
       "567                               0.05   \n",
       "568                               0.03   \n",
       "569                               0.03   \n",
       "570                               0.04   \n",
       "571                               0.03   \n",
       "\n",
       "     Low-carbon electricity (% electricity)  \\\n",
       "567                               10.638298   \n",
       "568                                5.882353   \n",
       "569                                4.347826   \n",
       "570                                5.633803   \n",
       "571                                3.947368   \n",
       "\n",
       "     Primary energy consumption per capita (kWh/person)  \\\n",
       "567                                          739.45550    \n",
       "568                                          769.40970    \n",
       "569                                          754.14470    \n",
       "570                                          803.81635    \n",
       "571                                          813.56445    \n",
       "\n",
       "     Energy intensity level of primary energy (MJ/$2017 PPP GDP)  \\\n",
       "567                                               7.91             \n",
       "568                                               7.51             \n",
       "569                                               7.05             \n",
       "570                                               6.69             \n",
       "571                                               6.23             \n",
       "\n",
       "     Value_co2_emissions_kt_by_country  \\\n",
       "567                        1960.000000   \n",
       "568                        2150.000000   \n",
       "569                        2210.000038   \n",
       "570                        2380.000114   \n",
       "571                        2380.000114   \n",
       "\n",
       "     Renewables (% equivalent primary energy)  gdp_growth  gdp_per_capita  \\\n",
       "567                                       NaN    9.993580      300.613679   \n",
       "568                                       NaN    8.148386      321.150224   \n",
       "569                                       NaN    6.578940      338.987477   \n",
       "570                                       NaN    8.505896      362.335482   \n",
       "571                                       NaN   10.340529      408.513639   \n",
       "\n",
       "    Density\\n(P/Km2) Land Area(Km2)   Latitude   Longitude  \n",
       "567               95       1,81,035  12.565679  104.990963  \n",
       "568               95       1,81,035  12.565679  104.990963  \n",
       "569               95       1,81,035  12.565679  104.990963  \n",
       "570               95       1,81,035  12.565679  104.990963  \n",
       "571               95       1,81,035  12.565679  104.990963  "
      ]
     },
     "execution_count": 71,
     "metadata": {},
     "output_type": "execute_result"
    }
   ],
   "source": [
    "data_sea.head()"
   ]
  },
  {
   "cell_type": "markdown",
   "metadata": {},
   "source": [
    "#### Electricity Analysis"
   ]
  },
  {
   "cell_type": "code",
   "execution_count": 106,
   "metadata": {},
   "outputs": [
    {
     "data": {
      "text/html": [
       "<div>\n",
       "<style scoped>\n",
       "    .dataframe tbody tr th:only-of-type {\n",
       "        vertical-align: middle;\n",
       "    }\n",
       "\n",
       "    .dataframe tbody tr th {\n",
       "        vertical-align: top;\n",
       "    }\n",
       "\n",
       "    .dataframe thead th {\n",
       "        text-align: right;\n",
       "    }\n",
       "</style>\n",
       "<table border=\"1\" class=\"dataframe\">\n",
       "  <thead>\n",
       "    <tr style=\"text-align: right;\">\n",
       "      <th></th>\n",
       "      <th>Entity</th>\n",
       "      <th>Year</th>\n",
       "      <th>Electricity from fossil fuels (TWh)</th>\n",
       "      <th>Electricity from nuclear (TWh)</th>\n",
       "      <th>Electricity from renewables (TWh)</th>\n",
       "    </tr>\n",
       "  </thead>\n",
       "  <tbody>\n",
       "    <tr>\n",
       "      <th>567</th>\n",
       "      <td>Cambodia</td>\n",
       "      <td>2000</td>\n",
       "      <td>0.42</td>\n",
       "      <td>0.0</td>\n",
       "      <td>0.05</td>\n",
       "    </tr>\n",
       "    <tr>\n",
       "      <th>568</th>\n",
       "      <td>Cambodia</td>\n",
       "      <td>2001</td>\n",
       "      <td>0.48</td>\n",
       "      <td>0.0</td>\n",
       "      <td>0.03</td>\n",
       "    </tr>\n",
       "    <tr>\n",
       "      <th>569</th>\n",
       "      <td>Cambodia</td>\n",
       "      <td>2002</td>\n",
       "      <td>0.66</td>\n",
       "      <td>0.0</td>\n",
       "      <td>0.03</td>\n",
       "    </tr>\n",
       "    <tr>\n",
       "      <th>570</th>\n",
       "      <td>Cambodia</td>\n",
       "      <td>2003</td>\n",
       "      <td>0.67</td>\n",
       "      <td>0.0</td>\n",
       "      <td>0.04</td>\n",
       "    </tr>\n",
       "    <tr>\n",
       "      <th>571</th>\n",
       "      <td>Cambodia</td>\n",
       "      <td>2004</td>\n",
       "      <td>0.73</td>\n",
       "      <td>0.0</td>\n",
       "      <td>0.03</td>\n",
       "    </tr>\n",
       "  </tbody>\n",
       "</table>\n",
       "</div>"
      ],
      "text/plain": [
       "       Entity  Year  Electricity from fossil fuels (TWh)  \\\n",
       "567  Cambodia  2000                                 0.42   \n",
       "568  Cambodia  2001                                 0.48   \n",
       "569  Cambodia  2002                                 0.66   \n",
       "570  Cambodia  2003                                 0.67   \n",
       "571  Cambodia  2004                                 0.73   \n",
       "\n",
       "     Electricity from nuclear (TWh)  Electricity from renewables (TWh)  \n",
       "567                             0.0                               0.05  \n",
       "568                             0.0                               0.03  \n",
       "569                             0.0                               0.03  \n",
       "570                             0.0                               0.04  \n",
       "571                             0.0                               0.03  "
      ]
     },
     "execution_count": 106,
     "metadata": {},
     "output_type": "execute_result"
    }
   ],
   "source": [
    "electricity_sea = data_sea[['Entity','Year','Electricity from fossil fuels (TWh)', 'Electricity from nuclear (TWh)','Electricity from renewables (TWh)',]]\n",
    "electricity_sea.head()"
   ]
  },
  {
   "cell_type": "code",
   "execution_count": 104,
   "metadata": {},
   "outputs": [
    {
     "data": {
      "text/html": [
       "<div>\n",
       "<style scoped>\n",
       "    .dataframe tbody tr th:only-of-type {\n",
       "        vertical-align: middle;\n",
       "    }\n",
       "\n",
       "    .dataframe tbody tr th {\n",
       "        vertical-align: top;\n",
       "    }\n",
       "\n",
       "    .dataframe thead th {\n",
       "        text-align: right;\n",
       "    }\n",
       "</style>\n",
       "<table border=\"1\" class=\"dataframe\">\n",
       "  <thead>\n",
       "    <tr style=\"text-align: right;\">\n",
       "      <th></th>\n",
       "      <th>Electricity from fossil fuels (TWh)</th>\n",
       "      <th>Electricity from nuclear (TWh)</th>\n",
       "      <th>Electricity from renewables (TWh)</th>\n",
       "      <th>Total Electricity</th>\n",
       "      <th>% Fossil Fuel</th>\n",
       "      <th>% Nuclear</th>\n",
       "      <th>% Renewable</th>\n",
       "    </tr>\n",
       "    <tr>\n",
       "      <th>Year</th>\n",
       "      <th></th>\n",
       "      <th></th>\n",
       "      <th></th>\n",
       "      <th></th>\n",
       "      <th></th>\n",
       "      <th></th>\n",
       "      <th></th>\n",
       "    </tr>\n",
       "  </thead>\n",
       "  <tbody>\n",
       "    <tr>\n",
       "      <th>2000</th>\n",
       "      <td>281.00</td>\n",
       "      <td>0.0</td>\n",
       "      <td>55.07</td>\n",
       "      <td>336.07</td>\n",
       "      <td>83.613533</td>\n",
       "      <td>0.0</td>\n",
       "      <td>16.386467</td>\n",
       "    </tr>\n",
       "    <tr>\n",
       "      <th>2001</th>\n",
       "      <td>305.34</td>\n",
       "      <td>0.0</td>\n",
       "      <td>55.17</td>\n",
       "      <td>360.51</td>\n",
       "      <td>84.696680</td>\n",
       "      <td>0.0</td>\n",
       "      <td>15.303320</td>\n",
       "    </tr>\n",
       "    <tr>\n",
       "      <th>2002</th>\n",
       "      <td>326.35</td>\n",
       "      <td>0.0</td>\n",
       "      <td>54.58</td>\n",
       "      <td>380.93</td>\n",
       "      <td>85.671908</td>\n",
       "      <td>0.0</td>\n",
       "      <td>14.328092</td>\n",
       "    </tr>\n",
       "    <tr>\n",
       "      <th>2003</th>\n",
       "      <td>346.20</td>\n",
       "      <td>0.0</td>\n",
       "      <td>53.89</td>\n",
       "      <td>400.09</td>\n",
       "      <td>86.530531</td>\n",
       "      <td>0.0</td>\n",
       "      <td>13.469469</td>\n",
       "    </tr>\n",
       "    <tr>\n",
       "      <th>2004</th>\n",
       "      <td>376.47</td>\n",
       "      <td>0.0</td>\n",
       "      <td>56.20</td>\n",
       "      <td>432.67</td>\n",
       "      <td>87.010886</td>\n",
       "      <td>0.0</td>\n",
       "      <td>12.989114</td>\n",
       "    </tr>\n",
       "  </tbody>\n",
       "</table>\n",
       "</div>"
      ],
      "text/plain": [
       "      Electricity from fossil fuels (TWh)  Electricity from nuclear (TWh)  \\\n",
       "Year                                                                        \n",
       "2000                               281.00                             0.0   \n",
       "2001                               305.34                             0.0   \n",
       "2002                               326.35                             0.0   \n",
       "2003                               346.20                             0.0   \n",
       "2004                               376.47                             0.0   \n",
       "\n",
       "      Electricity from renewables (TWh)  Total Electricity  % Fossil Fuel  \\\n",
       "Year                                                                        \n",
       "2000                              55.07             336.07      83.613533   \n",
       "2001                              55.17             360.51      84.696680   \n",
       "2002                              54.58             380.93      85.671908   \n",
       "2003                              53.89             400.09      86.530531   \n",
       "2004                              56.20             432.67      87.010886   \n",
       "\n",
       "      % Nuclear  % Renewable  \n",
       "Year                          \n",
       "2000        0.0    16.386467  \n",
       "2001        0.0    15.303320  \n",
       "2002        0.0    14.328092  \n",
       "2003        0.0    13.469469  \n",
       "2004        0.0    12.989114  "
      ]
     },
     "execution_count": 104,
     "metadata": {},
     "output_type": "execute_result"
    }
   ],
   "source": [
    "electricity_sea_sum = electricity_sea.groupby('Year').sum()\n",
    "electricity_sea_sum['Total Electricity'] = electricity_sea_sum.sum(axis=1)\n",
    "electricity_sea_sum['% Fossil Fuel'] = (electricity_sea_sum['Electricity from fossil fuels (TWh)']/electricity_sea_sum['Total Electricity'])*100\n",
    "electricity_sea_sum['% Nuclear'] = (electricity_sea_sum['Electricity from nuclear (TWh)']/electricity_sea_sum['Total Electricity'])*100\n",
    "electricity_sea_sum['% Renewable'] = (electricity_sea_sum['Electricity from renewables (TWh)']/electricity_sea_sum['Total Electricity'])*100\n",
    "electricity_sea_sum.head()"
   ]
  },
  {
   "cell_type": "code",
   "execution_count": 100,
   "metadata": {},
   "outputs": [
    {
     "data": {
      "application/vnd.plotly.v1+json": {
       "config": {
        "plotlyServerURL": "https://plot.ly"
       },
       "data": [
        {
         "mode": "lines+markers",
         "name": "Total Electricity",
         "type": "scatter",
         "x": [
          2000,
          2001,
          2002,
          2003,
          2004,
          2005,
          2006,
          2007,
          2008,
          2009,
          2010,
          2011,
          2012,
          2013,
          2014,
          2015,
          2016,
          2017,
          2018,
          2019,
          2020
         ],
         "y": [
          336.07,
          360.51,
          380.93,
          400.09,
          432.67,
          452.02,
          470.07,
          493.29,
          512.29,
          523.77,
          568.61,
          589.48,
          629.52,
          661.48,
          689.1099999999999,
          710.36,
          754.87,
          779.56,
          817.14,
          854.5,
          825.74
         ]
        },
        {
         "mode": "lines+markers",
         "name": " Fossil Fuel",
         "type": "scatter",
         "x": [
          2000,
          2001,
          2002,
          2003,
          2004,
          2005,
          2006,
          2007,
          2008,
          2009,
          2010,
          2011,
          2012,
          2013,
          2014,
          2015,
          2016,
          2017,
          2018,
          2019,
          2020
         ],
         "y": [
          281,
          305.34,
          326.35,
          346.2,
          376.47,
          393.89,
          408.12,
          429.31,
          443.43,
          453.86,
          494.27,
          509.68,
          544.36,
          570.02,
          595.3,
          614.77,
          642.49,
          650.29,
          672.6,
          710.66,
          677.59
         ]
        },
        {
         "mode": "lines+markers",
         "name": "Nuclear",
         "type": "scatter",
         "x": [
          2000,
          2001,
          2002,
          2003,
          2004,
          2005,
          2006,
          2007,
          2008,
          2009,
          2010,
          2011,
          2012,
          2013,
          2014,
          2015,
          2016,
          2017,
          2018,
          2019,
          2020
         ],
         "y": [
          0,
          0,
          0,
          0,
          0,
          0,
          0,
          0,
          0,
          0,
          0,
          0,
          0,
          0,
          0,
          0,
          0,
          0,
          0,
          0,
          0
         ]
        },
        {
         "mode": "lines+markers",
         "name": "Renewable",
         "type": "scatter",
         "x": [
          2000,
          2001,
          2002,
          2003,
          2004,
          2005,
          2006,
          2007,
          2008,
          2009,
          2010,
          2011,
          2012,
          2013,
          2014,
          2015,
          2016,
          2017,
          2018,
          2019,
          2020
         ],
         "y": [
          55.07,
          55.17,
          54.58,
          53.89,
          56.2,
          58.13,
          61.95,
          63.980000000000004,
          68.86,
          69.91,
          74.34,
          79.8,
          85.16,
          91.46,
          93.81,
          95.59,
          112.38,
          129.27,
          144.54,
          143.84,
          148.15
         ]
        }
       ],
       "layout": {
        "template": {
         "data": {
          "bar": [
           {
            "error_x": {
             "color": "#f2f5fa"
            },
            "error_y": {
             "color": "#f2f5fa"
            },
            "marker": {
             "line": {
              "color": "rgb(17,17,17)",
              "width": 0.5
             },
             "pattern": {
              "fillmode": "overlay",
              "size": 10,
              "solidity": 0.2
             }
            },
            "type": "bar"
           }
          ],
          "barpolar": [
           {
            "marker": {
             "line": {
              "color": "rgb(17,17,17)",
              "width": 0.5
             },
             "pattern": {
              "fillmode": "overlay",
              "size": 10,
              "solidity": 0.2
             }
            },
            "type": "barpolar"
           }
          ],
          "carpet": [
           {
            "aaxis": {
             "endlinecolor": "#A2B1C6",
             "gridcolor": "#506784",
             "linecolor": "#506784",
             "minorgridcolor": "#506784",
             "startlinecolor": "#A2B1C6"
            },
            "baxis": {
             "endlinecolor": "#A2B1C6",
             "gridcolor": "#506784",
             "linecolor": "#506784",
             "minorgridcolor": "#506784",
             "startlinecolor": "#A2B1C6"
            },
            "type": "carpet"
           }
          ],
          "choropleth": [
           {
            "colorbar": {
             "outlinewidth": 0,
             "ticks": ""
            },
            "type": "choropleth"
           }
          ],
          "contour": [
           {
            "colorbar": {
             "outlinewidth": 0,
             "ticks": ""
            },
            "colorscale": [
             [
              0,
              "#0d0887"
             ],
             [
              0.1111111111111111,
              "#46039f"
             ],
             [
              0.2222222222222222,
              "#7201a8"
             ],
             [
              0.3333333333333333,
              "#9c179e"
             ],
             [
              0.4444444444444444,
              "#bd3786"
             ],
             [
              0.5555555555555556,
              "#d8576b"
             ],
             [
              0.6666666666666666,
              "#ed7953"
             ],
             [
              0.7777777777777778,
              "#fb9f3a"
             ],
             [
              0.8888888888888888,
              "#fdca26"
             ],
             [
              1,
              "#f0f921"
             ]
            ],
            "type": "contour"
           }
          ],
          "contourcarpet": [
           {
            "colorbar": {
             "outlinewidth": 0,
             "ticks": ""
            },
            "type": "contourcarpet"
           }
          ],
          "heatmap": [
           {
            "colorbar": {
             "outlinewidth": 0,
             "ticks": ""
            },
            "colorscale": [
             [
              0,
              "#0d0887"
             ],
             [
              0.1111111111111111,
              "#46039f"
             ],
             [
              0.2222222222222222,
              "#7201a8"
             ],
             [
              0.3333333333333333,
              "#9c179e"
             ],
             [
              0.4444444444444444,
              "#bd3786"
             ],
             [
              0.5555555555555556,
              "#d8576b"
             ],
             [
              0.6666666666666666,
              "#ed7953"
             ],
             [
              0.7777777777777778,
              "#fb9f3a"
             ],
             [
              0.8888888888888888,
              "#fdca26"
             ],
             [
              1,
              "#f0f921"
             ]
            ],
            "type": "heatmap"
           }
          ],
          "heatmapgl": [
           {
            "colorbar": {
             "outlinewidth": 0,
             "ticks": ""
            },
            "colorscale": [
             [
              0,
              "#0d0887"
             ],
             [
              0.1111111111111111,
              "#46039f"
             ],
             [
              0.2222222222222222,
              "#7201a8"
             ],
             [
              0.3333333333333333,
              "#9c179e"
             ],
             [
              0.4444444444444444,
              "#bd3786"
             ],
             [
              0.5555555555555556,
              "#d8576b"
             ],
             [
              0.6666666666666666,
              "#ed7953"
             ],
             [
              0.7777777777777778,
              "#fb9f3a"
             ],
             [
              0.8888888888888888,
              "#fdca26"
             ],
             [
              1,
              "#f0f921"
             ]
            ],
            "type": "heatmapgl"
           }
          ],
          "histogram": [
           {
            "marker": {
             "pattern": {
              "fillmode": "overlay",
              "size": 10,
              "solidity": 0.2
             }
            },
            "type": "histogram"
           }
          ],
          "histogram2d": [
           {
            "colorbar": {
             "outlinewidth": 0,
             "ticks": ""
            },
            "colorscale": [
             [
              0,
              "#0d0887"
             ],
             [
              0.1111111111111111,
              "#46039f"
             ],
             [
              0.2222222222222222,
              "#7201a8"
             ],
             [
              0.3333333333333333,
              "#9c179e"
             ],
             [
              0.4444444444444444,
              "#bd3786"
             ],
             [
              0.5555555555555556,
              "#d8576b"
             ],
             [
              0.6666666666666666,
              "#ed7953"
             ],
             [
              0.7777777777777778,
              "#fb9f3a"
             ],
             [
              0.8888888888888888,
              "#fdca26"
             ],
             [
              1,
              "#f0f921"
             ]
            ],
            "type": "histogram2d"
           }
          ],
          "histogram2dcontour": [
           {
            "colorbar": {
             "outlinewidth": 0,
             "ticks": ""
            },
            "colorscale": [
             [
              0,
              "#0d0887"
             ],
             [
              0.1111111111111111,
              "#46039f"
             ],
             [
              0.2222222222222222,
              "#7201a8"
             ],
             [
              0.3333333333333333,
              "#9c179e"
             ],
             [
              0.4444444444444444,
              "#bd3786"
             ],
             [
              0.5555555555555556,
              "#d8576b"
             ],
             [
              0.6666666666666666,
              "#ed7953"
             ],
             [
              0.7777777777777778,
              "#fb9f3a"
             ],
             [
              0.8888888888888888,
              "#fdca26"
             ],
             [
              1,
              "#f0f921"
             ]
            ],
            "type": "histogram2dcontour"
           }
          ],
          "mesh3d": [
           {
            "colorbar": {
             "outlinewidth": 0,
             "ticks": ""
            },
            "type": "mesh3d"
           }
          ],
          "parcoords": [
           {
            "line": {
             "colorbar": {
              "outlinewidth": 0,
              "ticks": ""
             }
            },
            "type": "parcoords"
           }
          ],
          "pie": [
           {
            "automargin": true,
            "type": "pie"
           }
          ],
          "scatter": [
           {
            "marker": {
             "line": {
              "color": "#283442"
             }
            },
            "type": "scatter"
           }
          ],
          "scatter3d": [
           {
            "line": {
             "colorbar": {
              "outlinewidth": 0,
              "ticks": ""
             }
            },
            "marker": {
             "colorbar": {
              "outlinewidth": 0,
              "ticks": ""
             }
            },
            "type": "scatter3d"
           }
          ],
          "scattercarpet": [
           {
            "marker": {
             "colorbar": {
              "outlinewidth": 0,
              "ticks": ""
             }
            },
            "type": "scattercarpet"
           }
          ],
          "scattergeo": [
           {
            "marker": {
             "colorbar": {
              "outlinewidth": 0,
              "ticks": ""
             }
            },
            "type": "scattergeo"
           }
          ],
          "scattergl": [
           {
            "marker": {
             "line": {
              "color": "#283442"
             }
            },
            "type": "scattergl"
           }
          ],
          "scattermapbox": [
           {
            "marker": {
             "colorbar": {
              "outlinewidth": 0,
              "ticks": ""
             }
            },
            "type": "scattermapbox"
           }
          ],
          "scatterpolar": [
           {
            "marker": {
             "colorbar": {
              "outlinewidth": 0,
              "ticks": ""
             }
            },
            "type": "scatterpolar"
           }
          ],
          "scatterpolargl": [
           {
            "marker": {
             "colorbar": {
              "outlinewidth": 0,
              "ticks": ""
             }
            },
            "type": "scatterpolargl"
           }
          ],
          "scatterternary": [
           {
            "marker": {
             "colorbar": {
              "outlinewidth": 0,
              "ticks": ""
             }
            },
            "type": "scatterternary"
           }
          ],
          "surface": [
           {
            "colorbar": {
             "outlinewidth": 0,
             "ticks": ""
            },
            "colorscale": [
             [
              0,
              "#0d0887"
             ],
             [
              0.1111111111111111,
              "#46039f"
             ],
             [
              0.2222222222222222,
              "#7201a8"
             ],
             [
              0.3333333333333333,
              "#9c179e"
             ],
             [
              0.4444444444444444,
              "#bd3786"
             ],
             [
              0.5555555555555556,
              "#d8576b"
             ],
             [
              0.6666666666666666,
              "#ed7953"
             ],
             [
              0.7777777777777778,
              "#fb9f3a"
             ],
             [
              0.8888888888888888,
              "#fdca26"
             ],
             [
              1,
              "#f0f921"
             ]
            ],
            "type": "surface"
           }
          ],
          "table": [
           {
            "cells": {
             "fill": {
              "color": "#506784"
             },
             "line": {
              "color": "rgb(17,17,17)"
             }
            },
            "header": {
             "fill": {
              "color": "#2a3f5f"
             },
             "line": {
              "color": "rgb(17,17,17)"
             }
            },
            "type": "table"
           }
          ]
         },
         "layout": {
          "annotationdefaults": {
           "arrowcolor": "#f2f5fa",
           "arrowhead": 0,
           "arrowwidth": 1
          },
          "autotypenumbers": "strict",
          "coloraxis": {
           "colorbar": {
            "outlinewidth": 0,
            "ticks": ""
           }
          },
          "colorscale": {
           "diverging": [
            [
             0,
             "#8e0152"
            ],
            [
             0.1,
             "#c51b7d"
            ],
            [
             0.2,
             "#de77ae"
            ],
            [
             0.3,
             "#f1b6da"
            ],
            [
             0.4,
             "#fde0ef"
            ],
            [
             0.5,
             "#f7f7f7"
            ],
            [
             0.6,
             "#e6f5d0"
            ],
            [
             0.7,
             "#b8e186"
            ],
            [
             0.8,
             "#7fbc41"
            ],
            [
             0.9,
             "#4d9221"
            ],
            [
             1,
             "#276419"
            ]
           ],
           "sequential": [
            [
             0,
             "#0d0887"
            ],
            [
             0.1111111111111111,
             "#46039f"
            ],
            [
             0.2222222222222222,
             "#7201a8"
            ],
            [
             0.3333333333333333,
             "#9c179e"
            ],
            [
             0.4444444444444444,
             "#bd3786"
            ],
            [
             0.5555555555555556,
             "#d8576b"
            ],
            [
             0.6666666666666666,
             "#ed7953"
            ],
            [
             0.7777777777777778,
             "#fb9f3a"
            ],
            [
             0.8888888888888888,
             "#fdca26"
            ],
            [
             1,
             "#f0f921"
            ]
           ],
           "sequentialminus": [
            [
             0,
             "#0d0887"
            ],
            [
             0.1111111111111111,
             "#46039f"
            ],
            [
             0.2222222222222222,
             "#7201a8"
            ],
            [
             0.3333333333333333,
             "#9c179e"
            ],
            [
             0.4444444444444444,
             "#bd3786"
            ],
            [
             0.5555555555555556,
             "#d8576b"
            ],
            [
             0.6666666666666666,
             "#ed7953"
            ],
            [
             0.7777777777777778,
             "#fb9f3a"
            ],
            [
             0.8888888888888888,
             "#fdca26"
            ],
            [
             1,
             "#f0f921"
            ]
           ]
          },
          "colorway": [
           "#636efa",
           "#EF553B",
           "#00cc96",
           "#ab63fa",
           "#FFA15A",
           "#19d3f3",
           "#FF6692",
           "#B6E880",
           "#FF97FF",
           "#FECB52"
          ],
          "font": {
           "color": "#f2f5fa"
          },
          "geo": {
           "bgcolor": "rgb(17,17,17)",
           "lakecolor": "rgb(17,17,17)",
           "landcolor": "rgb(17,17,17)",
           "showlakes": true,
           "showland": true,
           "subunitcolor": "#506784"
          },
          "hoverlabel": {
           "align": "left"
          },
          "hovermode": "closest",
          "mapbox": {
           "style": "dark"
          },
          "paper_bgcolor": "rgb(17,17,17)",
          "plot_bgcolor": "rgb(17,17,17)",
          "polar": {
           "angularaxis": {
            "gridcolor": "#506784",
            "linecolor": "#506784",
            "ticks": ""
           },
           "bgcolor": "rgb(17,17,17)",
           "radialaxis": {
            "gridcolor": "#506784",
            "linecolor": "#506784",
            "ticks": ""
           }
          },
          "scene": {
           "xaxis": {
            "backgroundcolor": "rgb(17,17,17)",
            "gridcolor": "#506784",
            "gridwidth": 2,
            "linecolor": "#506784",
            "showbackground": true,
            "ticks": "",
            "zerolinecolor": "#C8D4E3"
           },
           "yaxis": {
            "backgroundcolor": "rgb(17,17,17)",
            "gridcolor": "#506784",
            "gridwidth": 2,
            "linecolor": "#506784",
            "showbackground": true,
            "ticks": "",
            "zerolinecolor": "#C8D4E3"
           },
           "zaxis": {
            "backgroundcolor": "rgb(17,17,17)",
            "gridcolor": "#506784",
            "gridwidth": 2,
            "linecolor": "#506784",
            "showbackground": true,
            "ticks": "",
            "zerolinecolor": "#C8D4E3"
           }
          },
          "shapedefaults": {
           "line": {
            "color": "#f2f5fa"
           }
          },
          "sliderdefaults": {
           "bgcolor": "#C8D4E3",
           "bordercolor": "rgb(17,17,17)",
           "borderwidth": 1,
           "tickwidth": 0
          },
          "ternary": {
           "aaxis": {
            "gridcolor": "#506784",
            "linecolor": "#506784",
            "ticks": ""
           },
           "baxis": {
            "gridcolor": "#506784",
            "linecolor": "#506784",
            "ticks": ""
           },
           "bgcolor": "rgb(17,17,17)",
           "caxis": {
            "gridcolor": "#506784",
            "linecolor": "#506784",
            "ticks": ""
           }
          },
          "title": {
           "x": 0.05
          },
          "updatemenudefaults": {
           "bgcolor": "#506784",
           "borderwidth": 0
          },
          "xaxis": {
           "automargin": true,
           "gridcolor": "#283442",
           "linecolor": "#506784",
           "ticks": "",
           "title": {
            "standoff": 15
           },
           "zerolinecolor": "#283442",
           "zerolinewidth": 2
          },
          "yaxis": {
           "automargin": true,
           "gridcolor": "#283442",
           "linecolor": "#506784",
           "ticks": "",
           "title": {
            "standoff": 15
           },
           "zerolinecolor": "#283442",
           "zerolinewidth": 2
          }
         }
        },
        "title": {
         "text": "Electricity Production in SEA"
        },
        "xaxis": {
         "rangeslider": {
          "visible": true
         },
         "tickfont": {
          "size": 7
         }
        }
       }
      }
     },
     "metadata": {},
     "output_type": "display_data"
    }
   ],
   "source": [
    "fig_electricity_sea_volume = go.Figure()\n",
    "fig_electricity_sea_volume.add_trace(go.Scatter(x = electricity_sea_sum.index, y = electricity_sea_sum['Total Electricity'], name = 'Total Electricity', mode = 'lines+markers'))\n",
    "fig_electricity_sea_volume.add_trace(go.Scatter(x = electricity_sea_sum.index, y = electricity_sea_sum['Electricity from fossil fuels (TWh)'], name = ' Fossil Fuel', mode = 'lines+markers'))\n",
    "fig_electricity_sea_volume.add_trace(go.Scatter(x = electricity_sea_sum.index, y = electricity_sea_sum['Electricity from nuclear (TWh)'], name = 'Nuclear', mode = 'lines+markers'))\n",
    "fig_electricity_sea_volume.add_trace(go.Scatter(x = electricity_sea_sum.index, y = electricity_sea_sum['Electricity from renewables (TWh)'], name = 'Renewable', mode = 'lines+markers'))\n",
    "fig_electricity_sea_volume.update_layout( title = 'Electricity Production in SEA', xaxis_tickfont_size = 7, template = 'plotly_dark')\n",
    "fig_electricity_sea_volume.update_xaxes(rangeslider_visible = True)\n",
    "fig_electricity_sea_volume.show()"
   ]
  },
  {
   "cell_type": "code",
   "execution_count": 105,
   "metadata": {},
   "outputs": [
    {
     "data": {
      "application/vnd.plotly.v1+json": {
       "config": {
        "plotlyServerURL": "https://plot.ly"
       },
       "data": [
        {
         "name": "Fossil Fuel",
         "type": "bar",
         "x": [
          2000,
          2001,
          2002,
          2003,
          2004,
          2005,
          2006,
          2007,
          2008,
          2009,
          2010,
          2011,
          2012,
          2013,
          2014,
          2015,
          2016,
          2017,
          2018,
          2019,
          2020
         ],
         "y": [
          83.6135328949326,
          84.696679703753,
          85.67190822460819,
          86.53053063060811,
          87.01088589456167,
          87.13994955975399,
          86.82111174931394,
          87.02994181921385,
          86.55839465927502,
          86.65253832789202,
          86.92601255693708,
          86.46264504308883,
          86.47223281230144,
          86.1734292797968,
          86.38678875651203,
          86.54344276141674,
          85.11266840648058,
          83.41756888501206,
          82.3114766135546,
          83.16676418958455,
          82.05851720880665
         ]
        },
        {
         "name": "Nuclear",
         "type": "bar",
         "x": [
          2000,
          2001,
          2002,
          2003,
          2004,
          2005,
          2006,
          2007,
          2008,
          2009,
          2010,
          2011,
          2012,
          2013,
          2014,
          2015,
          2016,
          2017,
          2018,
          2019,
          2020
         ],
         "y": [
          0,
          0,
          0,
          0,
          0,
          0,
          0,
          0,
          0,
          0,
          0,
          0,
          0,
          0,
          0,
          0,
          0,
          0,
          0,
          0,
          0
         ]
        },
        {
         "name": "Renewable",
         "type": "bar",
         "x": [
          2000,
          2001,
          2002,
          2003,
          2004,
          2005,
          2006,
          2007,
          2008,
          2009,
          2010,
          2011,
          2012,
          2013,
          2014,
          2015,
          2016,
          2017,
          2018,
          2019,
          2020
         ],
         "y": [
          16.3864671050674,
          15.303320296246984,
          14.328091775391805,
          13.469469369391888,
          12.989114105438325,
          12.860050440246006,
          13.178888250686068,
          12.97005818078615,
          13.44160534072498,
          13.347461672107986,
          13.07398744306291,
          13.537354956911173,
          13.527767187698563,
          13.82657072020318,
          13.61321124348798,
          13.456557238583253,
          14.887331593519413,
          16.582431114987944,
          17.688523386445407,
          16.83323581041545,
          17.941482791193355
         ]
        }
       ],
       "layout": {
        "barmode": "stack",
        "template": {
         "data": {
          "bar": [
           {
            "error_x": {
             "color": "#f2f5fa"
            },
            "error_y": {
             "color": "#f2f5fa"
            },
            "marker": {
             "line": {
              "color": "rgb(17,17,17)",
              "width": 0.5
             },
             "pattern": {
              "fillmode": "overlay",
              "size": 10,
              "solidity": 0.2
             }
            },
            "type": "bar"
           }
          ],
          "barpolar": [
           {
            "marker": {
             "line": {
              "color": "rgb(17,17,17)",
              "width": 0.5
             },
             "pattern": {
              "fillmode": "overlay",
              "size": 10,
              "solidity": 0.2
             }
            },
            "type": "barpolar"
           }
          ],
          "carpet": [
           {
            "aaxis": {
             "endlinecolor": "#A2B1C6",
             "gridcolor": "#506784",
             "linecolor": "#506784",
             "minorgridcolor": "#506784",
             "startlinecolor": "#A2B1C6"
            },
            "baxis": {
             "endlinecolor": "#A2B1C6",
             "gridcolor": "#506784",
             "linecolor": "#506784",
             "minorgridcolor": "#506784",
             "startlinecolor": "#A2B1C6"
            },
            "type": "carpet"
           }
          ],
          "choropleth": [
           {
            "colorbar": {
             "outlinewidth": 0,
             "ticks": ""
            },
            "type": "choropleth"
           }
          ],
          "contour": [
           {
            "colorbar": {
             "outlinewidth": 0,
             "ticks": ""
            },
            "colorscale": [
             [
              0,
              "#0d0887"
             ],
             [
              0.1111111111111111,
              "#46039f"
             ],
             [
              0.2222222222222222,
              "#7201a8"
             ],
             [
              0.3333333333333333,
              "#9c179e"
             ],
             [
              0.4444444444444444,
              "#bd3786"
             ],
             [
              0.5555555555555556,
              "#d8576b"
             ],
             [
              0.6666666666666666,
              "#ed7953"
             ],
             [
              0.7777777777777778,
              "#fb9f3a"
             ],
             [
              0.8888888888888888,
              "#fdca26"
             ],
             [
              1,
              "#f0f921"
             ]
            ],
            "type": "contour"
           }
          ],
          "contourcarpet": [
           {
            "colorbar": {
             "outlinewidth": 0,
             "ticks": ""
            },
            "type": "contourcarpet"
           }
          ],
          "heatmap": [
           {
            "colorbar": {
             "outlinewidth": 0,
             "ticks": ""
            },
            "colorscale": [
             [
              0,
              "#0d0887"
             ],
             [
              0.1111111111111111,
              "#46039f"
             ],
             [
              0.2222222222222222,
              "#7201a8"
             ],
             [
              0.3333333333333333,
              "#9c179e"
             ],
             [
              0.4444444444444444,
              "#bd3786"
             ],
             [
              0.5555555555555556,
              "#d8576b"
             ],
             [
              0.6666666666666666,
              "#ed7953"
             ],
             [
              0.7777777777777778,
              "#fb9f3a"
             ],
             [
              0.8888888888888888,
              "#fdca26"
             ],
             [
              1,
              "#f0f921"
             ]
            ],
            "type": "heatmap"
           }
          ],
          "heatmapgl": [
           {
            "colorbar": {
             "outlinewidth": 0,
             "ticks": ""
            },
            "colorscale": [
             [
              0,
              "#0d0887"
             ],
             [
              0.1111111111111111,
              "#46039f"
             ],
             [
              0.2222222222222222,
              "#7201a8"
             ],
             [
              0.3333333333333333,
              "#9c179e"
             ],
             [
              0.4444444444444444,
              "#bd3786"
             ],
             [
              0.5555555555555556,
              "#d8576b"
             ],
             [
              0.6666666666666666,
              "#ed7953"
             ],
             [
              0.7777777777777778,
              "#fb9f3a"
             ],
             [
              0.8888888888888888,
              "#fdca26"
             ],
             [
              1,
              "#f0f921"
             ]
            ],
            "type": "heatmapgl"
           }
          ],
          "histogram": [
           {
            "marker": {
             "pattern": {
              "fillmode": "overlay",
              "size": 10,
              "solidity": 0.2
             }
            },
            "type": "histogram"
           }
          ],
          "histogram2d": [
           {
            "colorbar": {
             "outlinewidth": 0,
             "ticks": ""
            },
            "colorscale": [
             [
              0,
              "#0d0887"
             ],
             [
              0.1111111111111111,
              "#46039f"
             ],
             [
              0.2222222222222222,
              "#7201a8"
             ],
             [
              0.3333333333333333,
              "#9c179e"
             ],
             [
              0.4444444444444444,
              "#bd3786"
             ],
             [
              0.5555555555555556,
              "#d8576b"
             ],
             [
              0.6666666666666666,
              "#ed7953"
             ],
             [
              0.7777777777777778,
              "#fb9f3a"
             ],
             [
              0.8888888888888888,
              "#fdca26"
             ],
             [
              1,
              "#f0f921"
             ]
            ],
            "type": "histogram2d"
           }
          ],
          "histogram2dcontour": [
           {
            "colorbar": {
             "outlinewidth": 0,
             "ticks": ""
            },
            "colorscale": [
             [
              0,
              "#0d0887"
             ],
             [
              0.1111111111111111,
              "#46039f"
             ],
             [
              0.2222222222222222,
              "#7201a8"
             ],
             [
              0.3333333333333333,
              "#9c179e"
             ],
             [
              0.4444444444444444,
              "#bd3786"
             ],
             [
              0.5555555555555556,
              "#d8576b"
             ],
             [
              0.6666666666666666,
              "#ed7953"
             ],
             [
              0.7777777777777778,
              "#fb9f3a"
             ],
             [
              0.8888888888888888,
              "#fdca26"
             ],
             [
              1,
              "#f0f921"
             ]
            ],
            "type": "histogram2dcontour"
           }
          ],
          "mesh3d": [
           {
            "colorbar": {
             "outlinewidth": 0,
             "ticks": ""
            },
            "type": "mesh3d"
           }
          ],
          "parcoords": [
           {
            "line": {
             "colorbar": {
              "outlinewidth": 0,
              "ticks": ""
             }
            },
            "type": "parcoords"
           }
          ],
          "pie": [
           {
            "automargin": true,
            "type": "pie"
           }
          ],
          "scatter": [
           {
            "marker": {
             "line": {
              "color": "#283442"
             }
            },
            "type": "scatter"
           }
          ],
          "scatter3d": [
           {
            "line": {
             "colorbar": {
              "outlinewidth": 0,
              "ticks": ""
             }
            },
            "marker": {
             "colorbar": {
              "outlinewidth": 0,
              "ticks": ""
             }
            },
            "type": "scatter3d"
           }
          ],
          "scattercarpet": [
           {
            "marker": {
             "colorbar": {
              "outlinewidth": 0,
              "ticks": ""
             }
            },
            "type": "scattercarpet"
           }
          ],
          "scattergeo": [
           {
            "marker": {
             "colorbar": {
              "outlinewidth": 0,
              "ticks": ""
             }
            },
            "type": "scattergeo"
           }
          ],
          "scattergl": [
           {
            "marker": {
             "line": {
              "color": "#283442"
             }
            },
            "type": "scattergl"
           }
          ],
          "scattermapbox": [
           {
            "marker": {
             "colorbar": {
              "outlinewidth": 0,
              "ticks": ""
             }
            },
            "type": "scattermapbox"
           }
          ],
          "scatterpolar": [
           {
            "marker": {
             "colorbar": {
              "outlinewidth": 0,
              "ticks": ""
             }
            },
            "type": "scatterpolar"
           }
          ],
          "scatterpolargl": [
           {
            "marker": {
             "colorbar": {
              "outlinewidth": 0,
              "ticks": ""
             }
            },
            "type": "scatterpolargl"
           }
          ],
          "scatterternary": [
           {
            "marker": {
             "colorbar": {
              "outlinewidth": 0,
              "ticks": ""
             }
            },
            "type": "scatterternary"
           }
          ],
          "surface": [
           {
            "colorbar": {
             "outlinewidth": 0,
             "ticks": ""
            },
            "colorscale": [
             [
              0,
              "#0d0887"
             ],
             [
              0.1111111111111111,
              "#46039f"
             ],
             [
              0.2222222222222222,
              "#7201a8"
             ],
             [
              0.3333333333333333,
              "#9c179e"
             ],
             [
              0.4444444444444444,
              "#bd3786"
             ],
             [
              0.5555555555555556,
              "#d8576b"
             ],
             [
              0.6666666666666666,
              "#ed7953"
             ],
             [
              0.7777777777777778,
              "#fb9f3a"
             ],
             [
              0.8888888888888888,
              "#fdca26"
             ],
             [
              1,
              "#f0f921"
             ]
            ],
            "type": "surface"
           }
          ],
          "table": [
           {
            "cells": {
             "fill": {
              "color": "#506784"
             },
             "line": {
              "color": "rgb(17,17,17)"
             }
            },
            "header": {
             "fill": {
              "color": "#2a3f5f"
             },
             "line": {
              "color": "rgb(17,17,17)"
             }
            },
            "type": "table"
           }
          ]
         },
         "layout": {
          "annotationdefaults": {
           "arrowcolor": "#f2f5fa",
           "arrowhead": 0,
           "arrowwidth": 1
          },
          "autotypenumbers": "strict",
          "coloraxis": {
           "colorbar": {
            "outlinewidth": 0,
            "ticks": ""
           }
          },
          "colorscale": {
           "diverging": [
            [
             0,
             "#8e0152"
            ],
            [
             0.1,
             "#c51b7d"
            ],
            [
             0.2,
             "#de77ae"
            ],
            [
             0.3,
             "#f1b6da"
            ],
            [
             0.4,
             "#fde0ef"
            ],
            [
             0.5,
             "#f7f7f7"
            ],
            [
             0.6,
             "#e6f5d0"
            ],
            [
             0.7,
             "#b8e186"
            ],
            [
             0.8,
             "#7fbc41"
            ],
            [
             0.9,
             "#4d9221"
            ],
            [
             1,
             "#276419"
            ]
           ],
           "sequential": [
            [
             0,
             "#0d0887"
            ],
            [
             0.1111111111111111,
             "#46039f"
            ],
            [
             0.2222222222222222,
             "#7201a8"
            ],
            [
             0.3333333333333333,
             "#9c179e"
            ],
            [
             0.4444444444444444,
             "#bd3786"
            ],
            [
             0.5555555555555556,
             "#d8576b"
            ],
            [
             0.6666666666666666,
             "#ed7953"
            ],
            [
             0.7777777777777778,
             "#fb9f3a"
            ],
            [
             0.8888888888888888,
             "#fdca26"
            ],
            [
             1,
             "#f0f921"
            ]
           ],
           "sequentialminus": [
            [
             0,
             "#0d0887"
            ],
            [
             0.1111111111111111,
             "#46039f"
            ],
            [
             0.2222222222222222,
             "#7201a8"
            ],
            [
             0.3333333333333333,
             "#9c179e"
            ],
            [
             0.4444444444444444,
             "#bd3786"
            ],
            [
             0.5555555555555556,
             "#d8576b"
            ],
            [
             0.6666666666666666,
             "#ed7953"
            ],
            [
             0.7777777777777778,
             "#fb9f3a"
            ],
            [
             0.8888888888888888,
             "#fdca26"
            ],
            [
             1,
             "#f0f921"
            ]
           ]
          },
          "colorway": [
           "#636efa",
           "#EF553B",
           "#00cc96",
           "#ab63fa",
           "#FFA15A",
           "#19d3f3",
           "#FF6692",
           "#B6E880",
           "#FF97FF",
           "#FECB52"
          ],
          "font": {
           "color": "#f2f5fa"
          },
          "geo": {
           "bgcolor": "rgb(17,17,17)",
           "lakecolor": "rgb(17,17,17)",
           "landcolor": "rgb(17,17,17)",
           "showlakes": true,
           "showland": true,
           "subunitcolor": "#506784"
          },
          "hoverlabel": {
           "align": "left"
          },
          "hovermode": "closest",
          "mapbox": {
           "style": "dark"
          },
          "paper_bgcolor": "rgb(17,17,17)",
          "plot_bgcolor": "rgb(17,17,17)",
          "polar": {
           "angularaxis": {
            "gridcolor": "#506784",
            "linecolor": "#506784",
            "ticks": ""
           },
           "bgcolor": "rgb(17,17,17)",
           "radialaxis": {
            "gridcolor": "#506784",
            "linecolor": "#506784",
            "ticks": ""
           }
          },
          "scene": {
           "xaxis": {
            "backgroundcolor": "rgb(17,17,17)",
            "gridcolor": "#506784",
            "gridwidth": 2,
            "linecolor": "#506784",
            "showbackground": true,
            "ticks": "",
            "zerolinecolor": "#C8D4E3"
           },
           "yaxis": {
            "backgroundcolor": "rgb(17,17,17)",
            "gridcolor": "#506784",
            "gridwidth": 2,
            "linecolor": "#506784",
            "showbackground": true,
            "ticks": "",
            "zerolinecolor": "#C8D4E3"
           },
           "zaxis": {
            "backgroundcolor": "rgb(17,17,17)",
            "gridcolor": "#506784",
            "gridwidth": 2,
            "linecolor": "#506784",
            "showbackground": true,
            "ticks": "",
            "zerolinecolor": "#C8D4E3"
           }
          },
          "shapedefaults": {
           "line": {
            "color": "#f2f5fa"
           }
          },
          "sliderdefaults": {
           "bgcolor": "#C8D4E3",
           "bordercolor": "rgb(17,17,17)",
           "borderwidth": 1,
           "tickwidth": 0
          },
          "ternary": {
           "aaxis": {
            "gridcolor": "#506784",
            "linecolor": "#506784",
            "ticks": ""
           },
           "baxis": {
            "gridcolor": "#506784",
            "linecolor": "#506784",
            "ticks": ""
           },
           "bgcolor": "rgb(17,17,17)",
           "caxis": {
            "gridcolor": "#506784",
            "linecolor": "#506784",
            "ticks": ""
           }
          },
          "title": {
           "x": 0.05
          },
          "updatemenudefaults": {
           "bgcolor": "#506784",
           "borderwidth": 0
          },
          "xaxis": {
           "automargin": true,
           "gridcolor": "#283442",
           "linecolor": "#506784",
           "ticks": "",
           "title": {
            "standoff": 15
           },
           "zerolinecolor": "#283442",
           "zerolinewidth": 2
          },
          "yaxis": {
           "automargin": true,
           "gridcolor": "#283442",
           "linecolor": "#506784",
           "ticks": "",
           "title": {
            "standoff": 15
           },
           "zerolinecolor": "#283442",
           "zerolinewidth": 2
          }
         }
        },
        "title": {
         "text": "Electricity Production Mix in SEA"
        },
        "xaxis": {
         "tickfont": {
          "size": 7
         }
        }
       }
      }
     },
     "metadata": {},
     "output_type": "display_data"
    }
   ],
   "source": [
    "fig_electricity_sea_portion = go.Figure()\n",
    "fig_electricity_sea_portion = fig_electricity_sea_portion.add_trace(go.Bar(x = electricity_sea_sum.index, y = electricity_sea_sum['% Fossil Fuel'], name = 'Fossil Fuel'))\n",
    "fig_electricity_sea_portion = fig_electricity_sea_portion.add_trace(go.Bar(x = electricity_sea_sum.index, y = electricity_sea_sum['% Nuclear'], name = 'Nuclear'))\n",
    "fig_electricity_sea_portion = fig_electricity_sea_portion.add_trace(go.Bar(x = electricity_sea_sum.index, y = electricity_sea_sum['% Renewable'], name = 'Renewable'))\n",
    "fig_electricity_sea_portion = fig_electricity_sea_portion.update_layout( title = 'Electricity Production Mix in SEA', xaxis_tickfont_size = 7, template = 'plotly_dark', barmode = 'stack')\n",
    "fig_electricity_sea_portion.show()"
   ]
  },
  {
   "cell_type": "code",
   "execution_count": 112,
   "metadata": {},
   "outputs": [
    {
     "data": {
      "text/html": [
       "<div>\n",
       "<style scoped>\n",
       "    .dataframe tbody tr th:only-of-type {\n",
       "        vertical-align: middle;\n",
       "    }\n",
       "\n",
       "    .dataframe tbody tr th {\n",
       "        vertical-align: top;\n",
       "    }\n",
       "\n",
       "    .dataframe thead th {\n",
       "        text-align: right;\n",
       "    }\n",
       "</style>\n",
       "<table border=\"1\" class=\"dataframe\">\n",
       "  <thead>\n",
       "    <tr style=\"text-align: right;\">\n",
       "      <th></th>\n",
       "      <th>Entity</th>\n",
       "      <th>Year</th>\n",
       "      <th>Electricity from fossil fuels (TWh)</th>\n",
       "      <th>Electricity from nuclear (TWh)</th>\n",
       "      <th>Electricity from renewables (TWh)</th>\n",
       "    </tr>\n",
       "  </thead>\n",
       "  <tbody>\n",
       "    <tr>\n",
       "      <th>567</th>\n",
       "      <td>Cambodia</td>\n",
       "      <td>2000</td>\n",
       "      <td>0.42</td>\n",
       "      <td>0.0</td>\n",
       "      <td>0.05</td>\n",
       "    </tr>\n",
       "    <tr>\n",
       "      <th>568</th>\n",
       "      <td>Cambodia</td>\n",
       "      <td>2001</td>\n",
       "      <td>0.48</td>\n",
       "      <td>0.0</td>\n",
       "      <td>0.03</td>\n",
       "    </tr>\n",
       "    <tr>\n",
       "      <th>569</th>\n",
       "      <td>Cambodia</td>\n",
       "      <td>2002</td>\n",
       "      <td>0.66</td>\n",
       "      <td>0.0</td>\n",
       "      <td>0.03</td>\n",
       "    </tr>\n",
       "    <tr>\n",
       "      <th>570</th>\n",
       "      <td>Cambodia</td>\n",
       "      <td>2003</td>\n",
       "      <td>0.67</td>\n",
       "      <td>0.0</td>\n",
       "      <td>0.04</td>\n",
       "    </tr>\n",
       "    <tr>\n",
       "      <th>571</th>\n",
       "      <td>Cambodia</td>\n",
       "      <td>2004</td>\n",
       "      <td>0.73</td>\n",
       "      <td>0.0</td>\n",
       "      <td>0.03</td>\n",
       "    </tr>\n",
       "    <tr>\n",
       "      <th>...</th>\n",
       "      <td>...</td>\n",
       "      <td>...</td>\n",
       "      <td>...</td>\n",
       "      <td>...</td>\n",
       "      <td>...</td>\n",
       "    </tr>\n",
       "    <tr>\n",
       "      <th>3266</th>\n",
       "      <td>Thailand</td>\n",
       "      <td>2016</td>\n",
       "      <td>161.79</td>\n",
       "      <td>0.0</td>\n",
       "      <td>15.97</td>\n",
       "    </tr>\n",
       "    <tr>\n",
       "      <th>3267</th>\n",
       "      <td>Thailand</td>\n",
       "      <td>2017</td>\n",
       "      <td>161.88</td>\n",
       "      <td>0.0</td>\n",
       "      <td>19.92</td>\n",
       "    </tr>\n",
       "    <tr>\n",
       "      <th>3268</th>\n",
       "      <td>Thailand</td>\n",
       "      <td>2018</td>\n",
       "      <td>156.26</td>\n",
       "      <td>0.0</td>\n",
       "      <td>25.84</td>\n",
       "    </tr>\n",
       "    <tr>\n",
       "      <th>3269</th>\n",
       "      <td>Thailand</td>\n",
       "      <td>2019</td>\n",
       "      <td>162.59</td>\n",
       "      <td>0.0</td>\n",
       "      <td>28.02</td>\n",
       "    </tr>\n",
       "    <tr>\n",
       "      <th>3270</th>\n",
       "      <td>Thailand</td>\n",
       "      <td>2020</td>\n",
       "      <td>154.52</td>\n",
       "      <td>0.0</td>\n",
       "      <td>24.73</td>\n",
       "    </tr>\n",
       "  </tbody>\n",
       "</table>\n",
       "<p>147 rows × 5 columns</p>\n",
       "</div>"
      ],
      "text/plain": [
       "        Entity  Year  Electricity from fossil fuels (TWh)  \\\n",
       "567   Cambodia  2000                                 0.42   \n",
       "568   Cambodia  2001                                 0.48   \n",
       "569   Cambodia  2002                                 0.66   \n",
       "570   Cambodia  2003                                 0.67   \n",
       "571   Cambodia  2004                                 0.73   \n",
       "...        ...   ...                                  ...   \n",
       "3266  Thailand  2016                               161.79   \n",
       "3267  Thailand  2017                               161.88   \n",
       "3268  Thailand  2018                               156.26   \n",
       "3269  Thailand  2019                               162.59   \n",
       "3270  Thailand  2020                               154.52   \n",
       "\n",
       "      Electricity from nuclear (TWh)  Electricity from renewables (TWh)  \n",
       "567                              0.0                               0.05  \n",
       "568                              0.0                               0.03  \n",
       "569                              0.0                               0.03  \n",
       "570                              0.0                               0.04  \n",
       "571                              0.0                               0.03  \n",
       "...                              ...                                ...  \n",
       "3266                             0.0                              15.97  \n",
       "3267                             0.0                              19.92  \n",
       "3268                             0.0                              25.84  \n",
       "3269                             0.0                              28.02  \n",
       "3270                             0.0                              24.73  \n",
       "\n",
       "[147 rows x 5 columns]"
      ]
     },
     "execution_count": 112,
     "metadata": {},
     "output_type": "execute_result"
    }
   ],
   "source": [
    "electricity_sea_country = electricity_sea\n",
    "electricity_sea_country"
   ]
  },
  {
   "cell_type": "code",
   "execution_count": null,
   "metadata": {},
   "outputs": [],
   "source": []
  }
 ],
 "metadata": {
  "kernelspec": {
   "display_name": "base",
   "language": "python",
   "name": "python3"
  },
  "language_info": {
   "codemirror_mode": {
    "name": "ipython",
    "version": 3
   },
   "file_extension": ".py",
   "mimetype": "text/x-python",
   "name": "python",
   "nbconvert_exporter": "python",
   "pygments_lexer": "ipython3",
   "version": "3.9.12"
  },
  "orig_nbformat": 4
 },
 "nbformat": 4,
 "nbformat_minor": 2
}
